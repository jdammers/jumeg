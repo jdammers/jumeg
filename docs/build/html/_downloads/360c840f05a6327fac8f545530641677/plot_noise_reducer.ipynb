{
  "cells": [
    {
      "cell_type": "markdown",
      "metadata": {},
      "source": [
        "\n# Plot noise reducer\n\nScript to show the application of noise reducer on jusample data.\n"
      ]
    },
    {
      "cell_type": "code",
      "execution_count": null,
      "metadata": {
        "collapsed": false
      },
      "outputs": [],
      "source": [
        "import os\nimport os.path as op\nimport numpy as np\nimport matplotlib.pyplot as plt\nfrom jumeg.jumeg_noise_reducer import noise_reducer\n\nimport mne\n\nplt.ion()\n\n# load the jumeg sample data (has to be BTI)\nif os.environ.get('JUSAMPLE_MEG_PATH'):\n    data_dir = os.environ['JUSAMPLE_MEG_PATH']\nelse:\n    print('Data unavailable, skipping.')\n    sys.exit()\n\nsubject = '207184'\nraw_fname = op.join(data_dir, 'recordings', subject,\n                    'sample_207184_rest_EC-raw.fif')\n\nraw = mne.io.Raw(raw_fname, preload=True)\n\nfig, (ax1, ax2, ax3, ax4, ax5) = plt.subplots(5, 1, sharex=True, sharey=True)\n\npicks = mne.pick_types(raw.info, meg='mag', exclude='bads')\nraw.plot_psd(fmin=0., fmax=100., tmin=None, tmax=60.,\n             n_fft=None, picks=picks, ax=ax1);\nax1.set_title('Original')\n\n# notch filter\nraw_notch = raw.copy().notch_filter(np.arange(50, 251, 50), picks=picks,\n                                    filter_length='auto',\n                                    notch_widths=None, n_jobs=4, method='fir',\n                                    phase='zero-double',\n                                    fir_window='hamming', fir_design='firwin')\nraw_notch.plot_psd(fmin=0., fmax=100., tmin=None, tmax=60.,\n                  n_fft=None, picks=picks, ax=ax2);\nax2.set_title('Notch filter 50Hz applied')\n\n# powerline removal using noise_reducer\nraw_nr_notch = noise_reducer(raw_fname, raw=raw.copy(), detrending=False,\n                         reflp=None, refhp=None, refnotch=[50., 100., 150.],\n                         return_raw=True, verbose=False)\nraw_nr_notch.plot_psd(fmin=0., fmax=100., tmin=None, tmax=60.,\n                  n_fft=None, picks=picks, ax=ax3);\nax3.set_title('Noise reducer notch filter 50Hz applied')\n\n\n# remove high freq noise (>0.1Hz) from ref channels\nraw_nr2 = noise_reducer(raw_fname, raw=raw_nr_notch, detrending=False,\n                        reflp=None, refhp=0.1, refnotch=None,\n                        return_raw=True, verbose=False)\nraw_nr2.plot_psd(fmin=0., fmax=100., tmin=None, tmax=60.,\n                 n_fft=None, picks=picks, ax=ax4);\nax4.set_title('Noise reducer high pass filtered 0.1Hz')\n\n# remove low freq noise (<5Hz) from ref channels\nraw_nr = noise_reducer(raw_fname, raw=raw_nr2, detrending=False,\n                       reflp=5., refhp=None, refnotch=None,\n                       return_raw=True, verbose=False)\nraw_nr.plot_psd(fmin=0., fmax=100., tmin=None, tmax=60.,\n                 n_fft=None, picks=picks, ax=ax5);\nax5.set_title('Noise reducer low pass filtered 5Hz')\n\nplt.tight_layout()\nplt.show()"
      ]
    }
  ],
  "metadata": {
    "kernelspec": {
      "display_name": "Python 3",
      "language": "python",
      "name": "python3"
    },
    "language_info": {
      "codemirror_mode": {
        "name": "ipython",
        "version": 3
      },
      "file_extension": ".py",
      "mimetype": "text/x-python",
      "name": "python",
      "nbconvert_exporter": "python",
      "pygments_lexer": "ipython3",
      "version": "3.9.16"
    }
  },
  "nbformat": 4,
  "nbformat_minor": 0
}