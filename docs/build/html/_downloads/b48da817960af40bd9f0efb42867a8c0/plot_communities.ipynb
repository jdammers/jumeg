{
  "cells": [
    {
      "cell_type": "markdown",
      "metadata": {},
      "source": [
        "\n# Plot network communities\n\nPlot Networkx Communities on a connectome plot.\n\nAuthor: Praveen Sripad <pravsripad@gmail.com>\n"
      ]
    },
    {
      "cell_type": "code",
      "execution_count": null,
      "metadata": {
        "collapsed": false
      },
      "outputs": [],
      "source": [
        "import os.path as op\nimport numpy as np\nimport matplotlib.pyplot as plt\n\nimport mne\nfrom mne.datasets import sample\nfrom jumeg.connectivity.con_utils import make_communities\nfrom jumeg.connectivity import generate_random_connectivity_matrix\n\nfrom nilearn import plotting\n\ndata_path = sample.data_path()\nsubjects_dir = op.join(data_path, 'subjects')\nsubject = 'fsaverage'\naparc = mne.read_labels_from_annot(subject, subjects_dir=subjects_dir,\n                                   parc='aparc')\n\n# make a random connectivity matrix\ncon = generate_random_connectivity_matrix(size=(34, 34), symmetric=True)\n\ntop_nodes_list, n_communities = make_communities(con)\n\n# FIXME better colouring\n# cmaps_list = ['Pastel1', 'Pastel2', 'Paired', 'Accent',\n#               'Dark2', 'Set1', 'Set2', 'Set3',\n#               'tab10', 'tab20', 'tab20b', 'tab20c']\n# color_list = plt.cm.Pastel1(np.linspace(0, 1, len(top_nodes_list)))\n\ncolor_list = ['red', 'orange', 'green', 'purple', 'navy', 'blue']\ncmaps_list = ['Reds', 'Oranges', 'Greens', 'Purples', 'PuBu', 'Blues']\n\nfig = plt.figure(facecolor='w', edgecolor='w')\n\nfor top_nodes, col, cmap in zip(top_nodes_list, color_list, cmaps_list):\n\n    coords = []\n    community_ = [aparc[tp] for tp in top_nodes]\n\n    for lab in community_:\n        if lab.name == 'unknown-lh':\n            continue\n        print(lab.name)\n        # get the center of mass\n        com = lab.center_of_mass('fsaverage')\n        if lab.name.endswith('lh'):\n            # obtain mni coordinated to the vertex from left hemi\n            coords_ = mne.vertex_to_mni(com, hemis=0, subject=subject,\n                                        subjects_dir=subjects_dir)\n        else:\n            coords_ = mne.vertex_to_mni(com, hemis=1, subject=subject,\n                                        subjects_dir=subjects_dir)\n        coords.append(coords_)\n\n    n_nodes = np.array(coords).shape[0]\n    # make a dummy connectivity matrix\n    # FIXME use the existing con matrix with indices chosen instead\n    con_ = np.ones((n_nodes, n_nodes)) / 2.\n    con_[np.diag_indices(n_nodes)] = 0.\n    con_[np.triu_indices(n_nodes, k=1)] = 0.\n    con_ += con_.T\n\n    # plot the connectome on a glass brain background\n    plotting.plot_connectome(con_, coords, node_color=col, edge_cmap=cmap,\n                             figure=fig, edge_vmin=0., edge_vmax=1.)\n\nplt.show()\n# plt.savefig('fig_communities.png')"
      ]
    }
  ],
  "metadata": {
    "kernelspec": {
      "display_name": "Python 3",
      "language": "python",
      "name": "python3"
    },
    "language_info": {
      "codemirror_mode": {
        "name": "ipython",
        "version": 3
      },
      "file_extension": ".py",
      "mimetype": "text/x-python",
      "name": "python",
      "nbconvert_exporter": "python",
      "pygments_lexer": "ipython3",
      "version": "3.9.16"
    }
  },
  "nbformat": 4,
  "nbformat_minor": 0
}