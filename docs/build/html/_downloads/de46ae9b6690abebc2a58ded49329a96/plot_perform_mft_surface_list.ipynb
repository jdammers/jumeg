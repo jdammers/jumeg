{
  "cells": [
    {
      "cell_type": "markdown",
      "metadata": {},
      "source": [
        "\n# Jumeg MFT example.\n\nPerform MFT on a surface based forward solution.\n"
      ]
    },
    {
      "cell_type": "code",
      "execution_count": null,
      "metadata": {
        "collapsed": false
      },
      "outputs": [],
      "source": [
        "import os.path as op\nimport numpy as np\nimport mne\nfrom mne.datasets import sample\nfrom jumeg.mft import (apply_mft, jumeg_mft_plot)\n\ndata_path = sample.data_path()\nsubject = 'sample'\nsubjects_dir = op.join(data_path, 'subjects')\nfwdname = op.join(data_path, 'MEG/sample/sample_audvis-meg-oct-6-fwd.fif')\nlblname = 'aparc'\nevoname = op.join(data_path, 'MEG/sample/sample_audvis-ave.fif')\nevocondition = 'Left Auditory'\nrawname = op.join(data_path, 'MEG/sample/sample_audvis_10s-raw.fif')\nt1_fname = op.join(subjects_dir, 'sample/mri/T1.mgz')\n\n# Set up pick list: MEG - bad channels\nwant_meg = 'mag'\nwant_ref = False\nwant_eeg = False\nwant_stim = False\nexclude = 'bads'\ninclude = []\n\nprint(\"########## MFT parameters:\")\nmftpar = {'prbfct': 'Gauss',\n          'prbcnt': np.array([[0.039, 0.013, 0.062], [-0.039, 0.013, 0.062]]),\n          'prbhw': np.array([[0.040, 0.040, 0.040], [0.040, 0.040, 0.040]])}\n# mftpar = {'prbfct': 'uniform',\n#           'prbcnt': None,\n#           'prbhw': None}\nmftpar.update({'iter': 2, 'currexp': 1.0})\nmftpar.update({'regtype': 'PzetaE', 'zetareg': 1.00})\n# mftpar.update({ 'regtype':'classic', 'zetareg':1.0})\nmftpar.update({'solver': 'lu', 'svrelcut': 5.e-4})\n\nprint(\"mftpar['prbcnt'  ] = \", mftpar['prbcnt'])\nprint(\"mftpar['prbhw'   ] = \", mftpar['prbhw'])\nprint(\"mftpar['iter'    ] = \", mftpar['iter'])\nprint(\"mftpar['regtype' ] = \", mftpar['regtype'])\nprint(\"mftpar['zetareg' ] = \", mftpar['zetareg'])\nprint(\"mftpar['solver'  ] = \", mftpar['solver'])\nprint(\"mftpar['svrelcut'] = \", mftpar['svrelcut'])\ncdmcut = 0.10\nprint(\"cdmcut = \", cdmcut)\n\nprint(\"########## get labels:\")\nif lblname is not None:\n    labels = mne.read_labels_from_annot(subject, parc=lblname,\n                                        subjects_dir=subjects_dir)\nelse:\n    labels = None\n\nprint(\"##########################\")\nprint(\"##### Calling apply_mft()\")\nprint(\"##########################\")\niterlist = [0, 1, 2]\nfwdmag, qualmft, stc_mftl = apply_mft(fwdname, evoname, evocondition=evocondition,\n                                      subject=subject, meg=want_meg, iterlist=iterlist,\n                                      calccdm='all', cdmcut=cdmcut, cdmlabels=labels,\n                                      mftpar=mftpar, verbose='verbose')\n\nevo = mne.read_evokeds(evoname, condition=evocondition, baseline=(None, 0))\ntstep = 1. / evo.info['sfreq']\n\nif iterlist == None:\n    stc_mft = stc_mftl\nelse:\n    stc_mft = stc_mftl[-1]\nstcdata = stc_mft.data\ntmin = stc_mft.tmin\n\nprint(\" \")\nprint(\"########## Some geo-numbers:\")\nlhinds = np.where(fwdmag['source_rr'][:, 0] <= 0.)\nrhinds = np.where(fwdmag['source_rr'][:, 0] > 0.)\nprint(\"> Discriminating lh/rh by sign of fwdmag['source_rr'][:,0]:\")\nprint(\"> lhinds[0].shape[0] = \", lhinds[0].shape[0], \" rhinds[0].shape[0] = \", rhinds[0].shape[0])\ninvmri_head_t = mne.transforms.invert_transform(fwdmag['info']['mri_head_t'])\nmrsrc = np.zeros(fwdmag['source_rr'].shape)\nmrsrc = mne.transforms.apply_trans(invmri_head_t['trans'], fwdmag['source_rr'], move=True)\nlhmrinds = np.where(mrsrc[:, 0] <= 0.)\nrhmrinds = np.where(mrsrc[:, 0] > 0.)\nprint(\"> Discriminating lh/rh by sign of fwdmag['source_rr'][:,0] in MR coords:\")\nprint(\"> lhmrinds[0].shape[0] = \", lhmrinds[0].shape[0], \" rhmrinds[0].shape[0] = \", rhmrinds[0].shape[0])\n\n# plotting routines\njumeg_mft_plot.plot_global_cdv_dist(stcdata)\njumeg_mft_plot.plot_visualize_mft_sources(fwdmag, stcdata, tmin=tmin, tstep=tstep,\n                                          subject=subject, subjects_dir=subjects_dir)\njumeg_mft_plot.plot_cdv_distribution(fwdmag, stcdata)\njumeg_mft_plot.plot_max_amplitude_data(fwdmag, stcdata, tmin=tmin, tstep=tstep,\n                                       subject=subject)\njumeg_mft_plot.plot_max_cdv_data(stc_mft, lhmrinds, rhmrinds)\njumeg_mft_plot.plot_cdvsum_data(stc_mft, lhmrinds, rhmrinds)\njumeg_mft_plot.plot_quality_data(qualmft, stc_mft)\njumeg_mft_plot.plot_cdm_data(qualmft, stc_mft, cdmlabels=labels)\njumeg_mft_plot.plot_jlong_labeldata(qualmft, stc_mft, labels)\njumeg_mft_plot.plot_jtotal_labeldata(qualmft, stc_mft, labels)\n\njumeg_mft_plot.plot_jlong_data(qualmft, stc_mft)\n\nprint_transforms = False\nif print_transforms:\n    print(\"##### Transforms:\")\n    print(\"fwdmag['info']['mri_head_t']:\")\n    print(fwdmag['info']['mri_head_t'])\n    invmri_head_t = mne.transforms.invert_transform(fwdmag['info']['mri_head_t'])\n    print(\"Inverse of fwdmag['info']['mri_head_t']:\")\n    print(invmri_head_t)\n\nwrite_tab_files = True\nif write_tab_files:\n    tabfilenam = 'testtab_stc.dat'\n    time_idx = np.argmax(np.max(stcdata, axis=0))\n    print(\"##### Creating %s with |cdv(time_idx=%d)|\" % (tabfilenam, time_idx))\n    tabfile = open(tabfilenam, mode='w')\n    cdvnmax = np.max(stcdata[:, time_idx])\n    n_loc = stcdata.shape[0]\n    tabfile.write(\"# time_idx = %d\\n\" % time_idx)\n    tabfile.write(\"# max amplitude = %11.4e\\n\" % cdvnmax)\n    tabfile.write(\"#  x/mm    y/mm    z/mm     |cdv|   index\\n\")\n    for ipnt in range(int(n_loc / 3)):\n        copnt = 1000. * fwdmag['source_rr'][ipnt]\n        tabfile.write(\" %7.2f %7.2f %7.2f %11.4e %5d\\n\" % \\\n                      (copnt[0], copnt[1], copnt[2], stcdata[ipnt, time_idx], ipnt))\n    tabfile.close()\n\nprint(\"Done.\")"
      ]
    }
  ],
  "metadata": {
    "kernelspec": {
      "display_name": "Python 3",
      "language": "python",
      "name": "python3"
    },
    "language_info": {
      "codemirror_mode": {
        "name": "ipython",
        "version": 3
      },
      "file_extension": ".py",
      "mimetype": "text/x-python",
      "name": "python",
      "nbconvert_exporter": "python",
      "pygments_lexer": "ipython3",
      "version": "3.9.16"
    }
  },
  "nbformat": 4,
  "nbformat_minor": 0
}