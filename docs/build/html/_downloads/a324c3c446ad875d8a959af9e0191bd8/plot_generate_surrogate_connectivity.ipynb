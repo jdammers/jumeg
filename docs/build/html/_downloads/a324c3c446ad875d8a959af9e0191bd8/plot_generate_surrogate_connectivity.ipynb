{
  "cells": [
    {
      "cell_type": "markdown",
      "metadata": {},
      "source": [
        "\nSurrogate computation\n"
      ]
    },
    {
      "cell_type": "code",
      "execution_count": null,
      "metadata": {
        "collapsed": false
      },
      "outputs": [],
      "source": [
        "import os.path as op\nimport numpy as np\nimport matplotlib.pyplot as pl\n\nimport mne\nfrom mne_connectivity import spectral_connectivity_epochs\nfrom mne.datasets import sample\nfrom mne.minimum_norm import read_inverse_operator, apply_inverse_epochs\n\nfrom jumeg.jumeg_surrogates import Surrogates\n\ndata_path = sample.data_path()\nsubjects_dir = op.join(data_path, 'subjects')\n\nfname_inv = op.join(data_path, 'MEG/sample/sample_audvis-meg-oct-6-meg-inv.fif')\nfname_raw = op.join(data_path, 'MEG/sample/sample_audvis_filt-0-40_raw.fif')\nfname_event = op.join(data_path, 'MEG/sample/sample_audvis_filt-0-40_raw-eve.fif')\n\nraw = mne.io.read_raw_fif(fname_raw)\nevents = mne.read_events(fname_event)\ninverse_operator = read_inverse_operator(fname_inv)\n\n# add a bad channel\nraw.info['bads'] += ['MEG 2443']\n\n# pick MEG channels\npicks = mne.pick_types(raw.info, meg=True, eeg=False, stim=False, eog=False,\n                       exclude='bads')\n\n# Define epochs for left-auditory condition\nevent_id, tmin, tmax = 1, -0.2, 0.5\nepochs = mne.Epochs(raw, events, event_id, tmin, tmax, picks=picks,\n                    baseline=(None, 0), reject=dict(mag=4e-12, grad=4000e-13))\n\nsnr = 1.0  # use lower SNR for single epochs\nlambda2 = 1.0 / snr ** 2\nmethod = \"dSPM\"  # use dSPM method (could also be MNE or sLORETA)\nstcs = apply_inverse_epochs(epochs, inverse_operator, lambda2, method,\n                            pick_ori=\"normal\", return_generator=False)\n\n# get labels for FreeSurfer 'aparc' cortical parcellation with 34 labels/hemi\nlabels = mne.read_labels_from_annot('sample', parc='aparc',\n                                    subjects_dir=subjects_dir)\nlabel_colors = [label.color for label in labels]\n\n# average the source estimates within each label using sign-flips to reduce\n# signal cancellations, also here we can return a generator\nsrc = inverse_operator['src']\nlabel_ts = mne.extract_label_time_course(stcs, labels, src, mode='mean_flip',\n                                         return_generator=False)\n\n# compute surrogates on the first STC extracted for 68 labels\nn_surr = 5\nfmin = 8.\nfmax = 13.\nsfreq = raw.info['sfreq']  # the sampling frequency\ncon_methods = ['coh', 'plv', 'wpli']\nn_rois = len(labels)\nfull_surr_con = np.zeros((3, n_rois, n_rois, 1, n_surr))\n\nreal_con = spectral_connectivity_epochs(\n    label_ts, method=con_methods, mode='fourier', sfreq=sfreq,\n    fmin=fmin, fmax=fmax, faverage=True, n_jobs=4)\n\n# get the data from SpectralConnectivity object and expand it\nreal_con = np.array([c.get_data(output='dense') for c in real_con])\n\n# loop through each of the label_ts from each epoch (i.e. 71)\n# for my_label_ts in label_ts:\nsurr_ts = Surrogates(np.array(label_ts))\nsurr_ts.original_data.shape\nsurr_label_ts = surr_ts.compute_surrogates(n_surr=n_surr,\n                                           return_generator=True)\n\nfor ind_surr, surr in enumerate(surr_label_ts):\n    con = spectral_connectivity_epochs(\n        surr, method=con_methods, mode='fourier', sfreq=sfreq,\n        fmin=fmin, fmax=fmax, faverage=True, n_jobs=4)\n\n    con = np.array([c.get_data(output='dense') for c in con])\n\n    # con now a list of arrays\n    # con shape (method, n_signals, n_signals, n_freqs)\n    full_surr_con[:, :, :, :, ind_surr] = con\n    assert full_surr_con.flatten().max() <= 1., 'Maximum connectivity is above 1.'\n    assert full_surr_con.flatten().min() >= 0., 'Minimum connectivity is 0.'\n\nsurr_ts.clear_cache()\n\n# visualize the surrogates\n# pl.plot(label_ts[0][0, :], 'b')\n# for lts in surr_label_ts:\n#     pl.plot(lts[0, :], 'r')\n# pl.title('Extracted label time courses - real vs surrogates')\n# pl.show()\n\n\ndef sanity_check_con_matrix(con):\n    '''\n    Check if the connectivity matrix provided satisfies necessary conditions.\n    This is done to ensure that the data remains clean and spurious values are\n    easily detected.\n    Expected a connectivity matrix of shape\n    (n_methods x n_rois x n_rois x n_freqs x n_surr)\n    '''\n    n_methods, n_rois, n_rois, n_freqs, n_surr = con.shape\n    assert np.any(con), 'Matrix is not all zeros.'\n    assert not (con == con[0]).all(), 'All rows are equal - methods not different.'\n    for surr in range(1, n_surr):\n        assert not (con[:, :, :, :, surr] == con[:, :, :, :, 0]).all(), 'All surrogates are equal.'\n        assert not np.triu(con[0, :, :, 0, surr]).any(), 'Matrices not symmetric.'\n\n\nsanity_check_con_matrix(full_surr_con)"
      ]
    }
  ],
  "metadata": {
    "kernelspec": {
      "display_name": "Python 3",
      "language": "python",
      "name": "python3"
    },
    "language_info": {
      "codemirror_mode": {
        "name": "ipython",
        "version": 3
      },
      "file_extension": ".py",
      "mimetype": "text/x-python",
      "name": "python",
      "nbconvert_exporter": "python",
      "pygments_lexer": "ipython3",
      "version": "3.9.16"
    }
  },
  "nbformat": 4,
  "nbformat_minor": 0
}