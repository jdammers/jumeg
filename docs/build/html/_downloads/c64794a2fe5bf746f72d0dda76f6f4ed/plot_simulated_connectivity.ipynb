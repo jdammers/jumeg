{
  "cells": [
    {
      "cell_type": "markdown",
      "metadata": {},
      "source": [
        "\n# Simulating Connectivity \n\nSimple implementations of connectivity measures.\n"
      ]
    },
    {
      "cell_type": "code",
      "execution_count": null,
      "metadata": {
        "collapsed": false
      },
      "outputs": [],
      "source": [
        "# Authors : pravsripad@gmail.com\n#           daniel.vandevelden@yahoo.de\n\nimport os.path as op\nimport sys\nimport numpy as np\nimport matplotlib.pyplot as pl\nimport matplotlib.mlab as mlab\n\nn_epochs = 120\nsfreq, duration = 1000., 1000\ntimes = np.arange(0, duration, 1 / sfreq)\namp , amp2 , nse_amp = 1., 1., 0.5\nnfft = 512\n\nnse1 = np.random.rand(times.size) * nse_amp\nnse2 = np.random.rand(times.size) * nse_amp\nx =  amp * np.sin(2 * np.pi * 200 * times) + nse1\ny =  amp * np.sin(2 * np.pi * 200 * times + np.pi/5) + nse2\n\nshift = 100  # integer\nassert shift < sfreq * duration, 'Choose a smaller shift.'\n#y = amp2 * np.roll(x, shift) + nse2\n\n# coherence using mlab function\ncohxy, freqs = mlab.cohere(x, y, Fs=sfreq, NFFT=nfft)\n\nn_freqs = int(nfft/2 + 1)\n\ndef compute_mean_psd_csd(x, y, n_epochs, nfft, sfreq):\n    '''Computes mean of PSD and CSD for signals.'''\n    x2 = np.array_split(x, n_epochs)\n    y2 = np.array_split(y, n_epochs)\n\n    Rxy = np.zeros((n_epochs, n_freqs), dtype=complex)\n    Rxx = np.zeros((n_epochs, n_freqs), dtype=complex)\n    Ryy = np.zeros((n_epochs, n_freqs), dtype=complex)\n\n    for i in range(n_epochs):\n        Rxy[i], freqs = mlab.csd(x2[i], y2[i], NFFT=nfft, Fs=sfreq)\n        Rxx[i], _ = mlab.psd(x2[i], NFFT=nfft, Fs=sfreq)\n        Ryy[i], _ = mlab.psd(y2[i], NFFT=nfft, Fs=sfreq)\n\n    Rxy_mean = np.mean(Rxy, axis=0)\n    Rxx_mean = np.mean(Rxx, axis=0)\n    Ryy_mean = np.mean(Ryy, axis=0)\n\n    return freqs, Rxy, Rxy_mean, np.real(Rxx_mean), np.real(Ryy_mean)\n\ndef my_coherence(n_freqs, Rxy_mean, Rxx_mean, Ryy_mean):\n    ''' Computes coherence. '''\n\n    coh = np.zeros((n_freqs))\n    for i in range(0, n_freqs):\n        coh[i] = np.abs(Rxy_mean[i]) / np.sqrt(Rxx_mean[i] * Ryy_mean[i])\n\n    return coh\n\ndef my_imcoh(n_freqs, Rxy_mean, Rxx_mean, Ryy_mean):\n    ''' Computes imaginary coherence. '''\n\n    imcoh = np.zeros((n_freqs))\n    for i in range(0, n_freqs):\n        imcoh[i] = np.imag(Rxy_mean[i]) / np.sqrt(Rxx_mean[i] * Ryy_mean[i])\n\n    return imcoh\n\ndef my_cohy(n_freqs, Rxy_mean, Rxx_mean, Ryy_mean):\n    ''' Computes coherency. '''\n\n    cohy = np.zeros((n_freqs))\n    for i in range(0, n_freqs):\n        cohy[i] = np.real(Rxy_mean[i]) / np.sqrt(Rxx_mean[i] * Ryy_mean[i])\n\n    return cohy\n\ndef my_plv(n_freqs, Rxy, Rxy_mean):\n    ''' Computes PLV. '''\n\n    Rxy_plv = np.zeros((n_epochs, n_freqs), dtype=complex)\n    for i in range(0, n_epochs):\n        Rxy_plv[i] = Rxy[i] / np.abs(Rxy[i])\n\n    plv = np.abs(np.mean(Rxy_plv, axis=0))\n    return plv\n\ndef my_pli(n_freqs, Rxy, Rxy_mean):\n    ''' Computes PLI. '''\n    Rxy_pli = np.zeros((n_epochs, n_freqs), dtype=complex)\n    for i in range(0, n_epochs):\n        Rxy_pli[i] = np.sign(np.imag(Rxy[i]))\n\n    pli = np.abs(np.mean(Rxy_pli, axis=0))\n    return pli\n\ndef my_wpli(n_freqs, Rxy, Rxy_mean):\n    ''' Computes WPLI. '''\n    Rxy_wpli_1 = np.zeros((n_epochs, n_freqs), dtype=complex)\n    Rxy_wpli_2 = np.zeros((n_epochs, n_freqs), dtype=complex)\n    for i in range(0, n_epochs):\n        Rxy_wpli_1[i] = np.imag(Rxy[i])\n        Rxy_wpli_2[i] = np.abs(np.imag(Rxy[i]))\n\n    # handle divide by zero\n    denom = np.mean(Rxy_wpli_2, axis=0)\n    idx_denom = np.where(denom == 0.)\n    denom[idx_denom] = 1.\n    wpli = np.abs(np.mean(Rxy_wpli_1, axis=0)) / denom\n    wpli[idx_denom] = 0.\n    return wpli\n\n\ndef my_con(x, y, n_epochs, nfft, sfreq, con_name='coh'):\n    '''Computes connectivity measure mentioned on provided signal pair and its surrogates.'''\n\n    freqs, Rxy, Rxy_mean, Rxx_mean, Ryy_mean = compute_mean_psd_csd(x, y, n_epochs, nfft, sfreq)\n\n    # compute surrogates\n    x_surr = x.copy() \n    y_surr = y.copy()\n    np.random.shuffle(x_surr)\n    np.random.shuffle(y_surr)\n    freqs_surro, Rxy_s, Rxy_s_mean, Rxx_s_mean, Ryy_s_mean = compute_mean_psd_csd(x_surr, y_surr, n_epochs, nfft, sfreq)\n\n    if con_name == 'coh':\n        coh = my_coherence(n_freqs, Rxy_mean, Rxx_mean, Ryy_mean)\n        coh_surro = my_coherence(n_freqs, Rxy_s_mean, Rxx_s_mean, Ryy_s_mean)\n        return coh, coh_surro, freqs, freqs_surro\n\n    if con_name == 'imcoh':\n        imcoh = my_imcoh(n_freqs, Rxy_mean, Rxx_mean, Ryy_mean)\n        imcoh_surro = my_imcoh(n_freqs, Rxy_s_mean, Rxx_s_mean, Ryy_s_mean)\n        return imcoh, imcoh_surro, freqs, freqs_surro\n\n    if con_name == 'cohy':\n        cohy = my_cohy(n_freqs, Rxy_mean, Rxx_mean, Ryy_mean)\n        cohy_surro = my_cohy(n_freqs, Rxy_s_mean, Rxx_s_mean, Ryy_s_mean)\n        return cohy, cohy_surro, freqs, freqs_surro\n\n    if con_name == 'plv':\n        plv = my_plv(n_freqs, Rxy, Rxy_mean)\n        plv_surro = my_plv(n_freqs, Rxy_s, Rxy_s_mean)\n        return plv, plv_surro, freqs, freqs_surro\n\n    if con_name == 'pli':\n        pli = my_pli(n_freqs, Rxy, Rxy_mean)\n        pli_surro = my_pli(n_freqs, Rxy_s, Rxy_s_mean)\n        return pli, pli_surro, freqs, freqs_surro\n\n    if con_name == 'wpli':\n        wpli = my_wpli(n_freqs, Rxy, Rxy_mean)\n        wpli_surro = my_wpli(n_freqs, Rxy_s, Rxy_s_mean)\n        return wpli, wpli_surro, freqs, freqs_surro\n\n    if con_name == '':\n        print('Please provide the connectivity method to use.')\n        sys.exit()\n    else:\n        print('Connectivity method unrecognized.')\n        sys.exit()\n\ncon_name = 'wpli'\ncon, con_surro, freqs, freqs_surro = my_con(x, y, n_epochs, nfft, sfreq, con_name)\n\n# coherence using mlab function\n#cohxy, freqs = mlab.cohere(x, y, Fs=sfreq, NFFT=nfft)\n#pl.plot(freqs, cohxy)\n\n# plot results\npl.figure('Connectivity')\npl.plot(freqs, con)\npl.plot(freqs_surro, con_surro)\npl.legend(['Con', 'Surrogates'])\npl.tight_layout()\npl.show()"
      ]
    }
  ],
  "metadata": {
    "kernelspec": {
      "display_name": "Python 3",
      "language": "python",
      "name": "python3"
    },
    "language_info": {
      "codemirror_mode": {
        "name": "ipython",
        "version": 3
      },
      "file_extension": ".py",
      "mimetype": "text/x-python",
      "name": "python",
      "nbconvert_exporter": "python",
      "pygments_lexer": "ipython3",
      "version": "3.9.16"
    }
  },
  "nbformat": 4,
  "nbformat_minor": 0
}