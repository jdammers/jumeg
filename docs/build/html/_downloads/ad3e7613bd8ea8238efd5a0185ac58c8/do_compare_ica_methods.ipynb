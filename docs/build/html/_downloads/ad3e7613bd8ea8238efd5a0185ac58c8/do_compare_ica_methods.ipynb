{
  "cells": [
    {
      "cell_type": "markdown",
      "metadata": {},
      "source": [
        "\n# Compare ICA methods\n\nCompute the ica object on filtered data based on the mne and on the\njumeg method.\nCompare pca_mean_ and pre_whitener_ for:\nmne & filtered data, jumeg & filtered data, jumeg & unfiltered data\n"
      ]
    },
    {
      "cell_type": "code",
      "execution_count": null,
      "metadata": {
        "collapsed": false
      },
      "outputs": [],
      "source": [
        "import os.path as op\nimport mne\nfrom mne.preprocessing.ica import ICA as ICA_mne\nfrom jumeg.decompose.ica_replace_mean_std import ICA as ICA_jumeg\nfrom jumeg.decompose.ica_replace_mean_std import apply_ica_replace_mean_std\nfrom mne.datasets import sample\n\nflow = 1.\nfhigh = 45.\n\nreject = {'mag': 5e-12}\n\ndata_path = sample.data_path()\nsubjects_dir = op.join(data_path, 'subjects')\n\nfname_raw = op.join(data_path, 'MEG/sample/sample_audvis_raw.fif')\n\nraw = mne.io.Raw(fname_raw, preload=True)\nraw_filt = raw.copy().filter(flow, fhigh, method='fir', n_jobs=2, fir_design='firwin', phase='zero')\n\n# use 60s of data\nraw_filt.crop(0, 60)\nraw.crop(0, 60)\nraw_unfilt = raw.copy()\n\npicks = mne.pick_types(raw.info, meg=True, exclude='bads')\n\nica_mne = ICA_mne(method='fastica', n_components=60, random_state=42,\n                  max_pca_components=None, max_iter=5000, verbose=False)\n\n# fit ica object from mne to filtered data\nica_mne.fit(raw_filt, picks=picks, reject=reject, verbose=True)\n\n# save mean and standard deviation of filtered MEG channels for the standard mne routine\npca_mean_filt_mne = ica_mne.pca_mean_.copy()\npca_pre_whitener_filt_mne = ica_mne.pre_whitener_.copy()  # this is the standard deviation of MEG channels\n\n\nica_jumeg = ICA_jumeg(method='fastica', n_components=60, random_state=42,\n                      max_pca_components=None, max_iter=5000, verbose=False)\n\n# fit ica object from jumeg to filtered data\nica_jumeg.fit(raw_filt, picks=picks, reject=reject, verbose=True)\n\n# save mean and standard deviation of filtered MEG channels for the standard mne routine\npca_mean_filt_jumeg = ica_jumeg.pca_mean_.copy()\npca_pre_whitener_filt_jumeg = ica_jumeg.pre_whitener_.copy()  # this is the standard deviation of MEG channels\n\n# use the same arguments for apply_ica_replace_mean_std as when you are initializing the ICA\n# object and when you are fitting it to the data\n# the ica object is modified in place!!\n\n# apply ica object from jumeg to unfiltered data while replacing the mean and std\nraw_clean = apply_ica_replace_mean_std(raw_unfilt, ica_jumeg, picks=picks, reject=reject, exclude=ica_mne.exclude,\n                                       n_pca_components=None)\n\n# save mean and standard deviation of unfiltered MEG channels\npca_mean_replaced_unfilt_jumeg = ica_jumeg.pca_mean_\npca_pre_whitener_replaced_unfilt_jumeg = ica_jumeg.pre_whitener_\n\n# compare methods for filtered and unfiltered data\nfor idx in range(0, len(pca_mean_filt_mne)):\n    print('%10.6f\\t%10.6f\\t%10.6f' % (pca_mean_filt_mne[idx], pca_mean_filt_jumeg[idx],\n                                      pca_mean_replaced_unfilt_jumeg[idx]))\n    if idx >= 9:\n        break\n\nfor idx in range(0, len(pca_pre_whitener_filt_mne)):\n    print(pca_pre_whitener_filt_mne[idx], pca_pre_whitener_filt_jumeg[idx],\\\n        pca_pre_whitener_replaced_unfilt_jumeg[idx])\n    if idx >= 9:\n        break"
      ]
    }
  ],
  "metadata": {
    "kernelspec": {
      "display_name": "Python 3",
      "language": "python",
      "name": "python3"
    },
    "language_info": {
      "codemirror_mode": {
        "name": "ipython",
        "version": 3
      },
      "file_extension": ".py",
      "mimetype": "text/x-python",
      "name": "python",
      "nbconvert_exporter": "python",
      "pygments_lexer": "ipython3",
      "version": "3.9.16"
    }
  },
  "nbformat": 4,
  "nbformat_minor": 0
}