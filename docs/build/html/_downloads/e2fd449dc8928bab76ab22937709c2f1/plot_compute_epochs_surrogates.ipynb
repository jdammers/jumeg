{
  "cells": [
    {
      "cell_type": "markdown",
      "metadata": {},
      "source": [
        "\n# Surrogate Connectivity Generation\n\nExample to show surrogate generation on Epochs using the jumeg Surrogates\nmodule.\n"
      ]
    },
    {
      "cell_type": "code",
      "execution_count": null,
      "metadata": {
        "collapsed": false
      },
      "outputs": [],
      "source": [
        "import os.path as op\nimport numpy as np\nimport matplotlib.pyplot as pl\nfrom mne.datasets import sample\nimport mne\n\nfrom jumeg.jumeg_surrogates import Surrogates, check_power_spectrum\n\ndata_path = sample.data_path()\nsubjects_dir = op.join(data_path, 'subjects')\n\nfname_raw = op.join(data_path, 'MEG/sample/sample_audvis_filt-0-40_raw.fif')\nfname_event = op.join(data_path, 'MEG/sample/sample_audvis_filt-0-40_raw-eve.fif')\n\nepochs_testing = False\n\nraw = mne.io.read_raw_fif(fname_raw)\nevents = mne.read_events(fname_event)\n\n# add a bad channel\nraw.info['bads'] += ['MEG 2443']\n\n# pick MEG channels\npicks = mne.pick_types(raw.info, meg='mag', eeg=False, stim=False, eog=False,\n                       exclude='bads')\n\n# Define epochs for left-auditory condition\nevent_id, tmin, tmax = 1, -0.2, 0.5\nepochs = mne.Epochs(raw, events, event_id, tmin, tmax, picks=picks,\n                    baseline=(None, 0), reject=dict(mag=4e-12))\n\n# initialize the Surrogates object\nsurr_epochs = Surrogates(epochs)\n\nn_surr = 10  # number of surrogates\nmode = 'randomize_phase'\nmysurr = surr_epochs.compute_surrogates(n_surr=n_surr,\n                                        mode=mode, return_generator=False)\n\n# get one epochs for plotting\n# for epochs, a generator is always returned\nfirst_surr_epoch = next(mysurr)\n\n# visualize surrogates\nfig, (ax1, ax2) = pl.subplots(2, 1)\nepochs.average().plot(axes=ax1, show=False, titles='Evoked')\nfirst_surr_epoch.average().plot(axes=ax2, show=False, titles='Surrogate Evoked')\npl.show()"
      ]
    }
  ],
  "metadata": {
    "kernelspec": {
      "display_name": "Python 3",
      "language": "python",
      "name": "python3"
    },
    "language_info": {
      "codemirror_mode": {
        "name": "ipython",
        "version": 3
      },
      "file_extension": ".py",
      "mimetype": "text/x-python",
      "name": "python",
      "nbconvert_exporter": "python",
      "pygments_lexer": "ipython3",
      "version": "3.9.16"
    }
  },
  "nbformat": 4,
  "nbformat_minor": 0
}