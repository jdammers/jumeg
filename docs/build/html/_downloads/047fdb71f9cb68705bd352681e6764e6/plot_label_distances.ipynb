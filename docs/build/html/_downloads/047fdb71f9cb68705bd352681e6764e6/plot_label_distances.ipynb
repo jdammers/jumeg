{
  "cells": [
    {
      "cell_type": "markdown",
      "metadata": {},
      "source": [
        "\n# Plot label distances\n\nScript to plot label distances on circle and connectome plots.\n"
      ]
    },
    {
      "cell_type": "code",
      "execution_count": null,
      "metadata": {
        "collapsed": false
      },
      "outputs": [],
      "source": [
        "import os.path as op\n\nimport mne\nfrom mne.datasets import sample\nfrom mne_connectivity import degree\n\nfrom jumeg import get_jumeg_path\nfrom jumeg.connectivity import (get_label_distances,\n                                plot_grouped_connectivity_circle)\nimport yaml\n\nfrom nilearn import plotting\n\ndata_path = sample.data_path()\nsubjects_dir = op.join(data_path, 'subjects')\nsubject = 'sample'\n\nparc = 'aparc'\n\nyaml_cortex_fname = op.join(get_jumeg_path(), 'data/desikan_%s_cortex_based_grouping.yaml' % parc)\n\nlabels_fname = op.join(get_jumeg_path(), 'data/desikan_label_names.yaml')\nwith open(labels_fname, 'r') as f:\n    label_names = yaml.safe_load(f)['label_names']\n\nreplacer_dict_fname = op.join(get_jumeg_path(), 'data/replacer_dictionaries.yaml')\nwith open(replacer_dict_fname, 'r') as f:\n    replacer_dict = yaml.safe_load(f)['replacer_dict_%s' % parc]\n\n# compute distances between center of masses (COMs) of the labels\n# we also get the MNI coordinates of the COMs in millimetres\ncon, coords, _, _ = get_label_distances(subject, subjects_dir, parc=parc)\n\n# forget long range connections, plot short neighbouring connections\nneighbor_range = 30.  # millimetres\ncon[con > neighbor_range] = 0.\n\ncortex_colors = ['m', 'b', 'y', 'c', 'r', 'g',\n                 'g', 'r', 'c', 'y', 'b', 'm']\n\nout_fname = 'fig_label_com_distances_circle_%0.1f_%s.png' % (neighbor_range, parc)\nplot_grouped_connectivity_circle(yaml_cortex_fname, con, label_names,\n                                 replacer_dict=replacer_dict,\n                                 yaml_color_fname=None, labels_mode='replace',\n                                 cortex_colors=cortex_colors,\n                                 out_fname=out_fname, colorbar_pos=(0.1, 0.1),\n                                 n_lines=None, colorbar=True,\n                                 colormap='Reds')\n\n# compute the degree\ndegs = degree(con, threshold_prop=1)\n\n# show the label ROIs and short range connections using nilearn glass brain\nfig = plotting.plot_connectome(con, coords, node_size=degs,\n                               edge_threshold='99%',\n                               node_color='cornflowerblue',\n                               display_mode='ortho',\n                               title='%s' % parc)\n\nfig.savefig('fig_%s_labels_distance_degrees.png' % parc)"
      ]
    }
  ],
  "metadata": {
    "kernelspec": {
      "display_name": "Python 3",
      "language": "python",
      "name": "python3"
    },
    "language_info": {
      "codemirror_mode": {
        "name": "ipython",
        "version": 3
      },
      "file_extension": ".py",
      "mimetype": "text/x-python",
      "name": "python",
      "nbconvert_exporter": "python",
      "pygments_lexer": "ipython3",
      "version": "3.9.16"
    }
  },
  "nbformat": 4,
  "nbformat_minor": 0
}