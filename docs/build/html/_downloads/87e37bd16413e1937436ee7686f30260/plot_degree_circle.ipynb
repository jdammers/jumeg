{
  "cells": [
    {
      "cell_type": "markdown",
      "metadata": {},
      "source": [
        "\n# Plot degree circle\n\nPlot degree values for a given set of nodes in a simple circle plot.\n"
      ]
    },
    {
      "cell_type": "code",
      "execution_count": null,
      "metadata": {
        "collapsed": false
      },
      "outputs": [],
      "source": [
        "import os.path as op\nimport numpy as np\nimport matplotlib.pyplot as plt\n\nimport mne\nfrom mne_connectivity import degree\nfrom jumeg import get_jumeg_path\nfrom jumeg.connectivity import plot_degree_circle\n\nimport bct\n\norig_labels_fname = op.join(get_jumeg_path(), 'data/desikan_label_names.yaml')\nyaml_fname = op.join(get_jumeg_path(), 'data/desikan_aparc_cortex_based_grouping.yaml')\ncon_fname = op.join(get_jumeg_path(), 'data/sample,aparc-con.npy')\n\ncon = np.load(con_fname)\ncon_ = con[0, :, :, 2] + con[0, :, :, 2].T\n\n# compute the degree\ndegrees = degree(con_, threshold_prop=0.2)\n\nfig, ax = plot_degree_circle(degrees, yaml_fname, orig_labels_fname)"
      ]
    }
  ],
  "metadata": {
    "kernelspec": {
      "display_name": "Python 3",
      "language": "python",
      "name": "python3"
    },
    "language_info": {
      "codemirror_mode": {
        "name": "ipython",
        "version": 3
      },
      "file_extension": ".py",
      "mimetype": "text/x-python",
      "name": "python",
      "nbconvert_exporter": "python",
      "pygments_lexer": "ipython3",
      "version": "3.9.16"
    }
  },
  "nbformat": 4,
  "nbformat_minor": 0
}