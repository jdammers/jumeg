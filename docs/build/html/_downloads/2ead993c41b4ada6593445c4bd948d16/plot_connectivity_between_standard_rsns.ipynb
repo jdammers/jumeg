{
  "cells": [
    {
      "cell_type": "markdown",
      "metadata": {},
      "source": [
        "\nModified MNE-Python example script to show connectivity between standard\nresting state network labels obtained from [1].\n\n[1] P. Garc\u00e9s, M. C. Mart\u00edn-Buro, and F. Maest\u00fa,\n\u201cQuantifying the Test-Retest Reliability of Magnetoencephalography\nResting-State Functional Connectivity,\u201d Brain Connect., vol. 6, no. 6, pp.\n448\u2013460, 2016.\n\nAuthor: Praveen sripad <pravsripad@gmail.com>\n"
      ]
    },
    {
      "cell_type": "code",
      "execution_count": null,
      "metadata": {
        "collapsed": false
      },
      "outputs": [],
      "source": [
        "import os.path as op\n\nimport numpy as np\nimport matplotlib.pyplot as plt\n\nimport mne\nfrom mne.datasets import sample\nfrom mne.minimum_norm import apply_inverse_epochs, read_inverse_operator\nfrom mne.viz import circular_layout\n\nfrom mne_connectivity import spectral_connectivity_epochs\nfrom mne_connectivity.viz import plot_connectivity_circle\n\ndata_path = sample.data_path()\nsubjects_dir = op.join(data_path, 'subjects')\nfname_inv = op.join(data_path, 'MEG/sample/sample_audvis-meg-oct-6-meg-inv.fif')\nfname_raw = op.join(data_path, 'MEG/sample/sample_audvis_filt-0-40_raw.fif')\nfname_event = op.join(data_path, 'MEG/sample/sample_audvis_filt-0-40_raw-eve.fif')\n\n# Load data\ninverse_operator = read_inverse_operator(fname_inv)\nraw = mne.io.read_raw_fif(fname_raw)\nevents = mne.read_events(fname_event)\n\n# Add a bad channel\nraw.info['bads'] += ['MEG 2443']\n\n# Pick MEG channels\npicks = mne.pick_types(raw.info, meg=True, eeg=False, stim=False, eog=True,\n                       exclude='bads')\n\n# Define epochs for left-auditory condition\nevent_id, tmin, tmax = 1, -0.2, 0.5\nepochs = mne.Epochs(raw, events, event_id, tmin, tmax, picks=picks,\n                    baseline=(None, 0), reject=dict(mag=4e-12, grad=4000e-13,\n                                                    eog=150e-6))\nif not epochs.preload:\n    epochs.load_data()\n\n# Compute inverse solution and for each epoch. By using \"return_generator=True\"\n# stcs will be a generator object instead of a list.\nsnr = 1.0  # use lower SNR for single epochs\nlambda2 = 1.0 / snr ** 2\nmethod = \"MNE\"  # use dSPM method (could also be MNE or sLORETA)\nstcs = apply_inverse_epochs(epochs, inverse_operator, lambda2, method,\n                            pick_ori=\"normal\", return_generator=True)\n\n# Get labels for FreeSurfer 'aparc' cortical parcellation with 34 labels/hemi\nlabels = mne.read_labels_from_annot('sample', parc='standard_garces_2016',\n                                    subjects_dir=subjects_dir)\nlabels = [lab for lab in labels if not lab.name.startswith('unknown')]\nlabel_colors = [label.color for label in labels]\n\n# Average the source estimates within each label using sign-flips to reduce\n# signal cancellations, also here we return a generator\nsrc = inverse_operator['src']\nlabel_ts = mne.extract_label_time_course(stcs, labels, src, mode='mean_flip',\n                                         return_generator=True)\n\nfmin = 8.\nfmax = 13.\nsfreq = raw.info['sfreq']  # the sampling frequency\ncon_methods = ['coh', 'wpli']\ncon = spectral_connectivity_epochs(\n    label_ts, method=con_methods, mode='multitaper', sfreq=sfreq, fmin=fmin,\n    fmax=fmax, faverage=True, mt_adaptive=True, n_jobs=4)\n\n# con is a 3D array, get the connectivity for the first (and only) freq. band\n# for each method\ncon_res = dict()\nfor method, c in zip(con_methods, con):\n    con_res[method] = c.get_data(output='dense')[:, :, 0]\n\n# Now, we visualize the connectivity using a circular graph layout\n# First, we reorder the labels based on their location in the left hemi\nlabel_names = [label.name for label in labels]\n\nfrom jumeg import get_jumeg_path\nyaml_fname = get_jumeg_path() + '/data/standard_garces_rsns_grouping.yaml'\n\nimport yaml\nwith open(yaml_fname, 'r') as f:\n    xlabels = yaml.safe_load(f)\n\n# the yaml file has been hand curated to follow the same order as label_names\n# if not the node order has to be changed appropriately\nnode_order = list()\nnode_order.extend(label_names)\n\ngroup_bound = [len(list(key.values())[0]) for key in xlabels]\ngroup_bound = [0] + group_bound\ngroup_boundaries = [sum(group_bound[:i+1]) for i in range(len(group_bound))]\ngroup_boundaries.pop()\n\nrsn_colors = ['m', 'b', 'y', 'c', 'r', 'g', 'w']\n\ngroup_bound.pop(0)\nlabel_colors = []\nfor ind, rep in enumerate(group_bound):\n    label_colors += [rsn_colors[ind]] * rep\nassert len(label_colors) == len(node_order), 'Number of colours do not match'\n\nfrom mne.viz.circle import circular_layout\nnode_angles = circular_layout(label_names, label_names, start_pos=90,\n                              group_boundaries=group_boundaries)\n\n# Plot the graph using node colors from the FreeSurfer parcellation.\nplot_connectivity_circle(con_res['wpli'], label_names, n_lines=300,\n                         node_angles=node_angles, node_colors=label_colors,\n                         title='Connectivity between standard RSNs')\n# plt.savefig('circle.png', facecolor='black')"
      ]
    }
  ],
  "metadata": {
    "kernelspec": {
      "display_name": "Python 3",
      "language": "python",
      "name": "python3"
    },
    "language_info": {
      "codemirror_mode": {
        "name": "ipython",
        "version": 3
      },
      "file_extension": ".py",
      "mimetype": "text/x-python",
      "name": "python",
      "nbconvert_exporter": "python",
      "pygments_lexer": "ipython3",
      "version": "3.9.16"
    }
  },
  "nbformat": 4,
  "nbformat_minor": 0
}