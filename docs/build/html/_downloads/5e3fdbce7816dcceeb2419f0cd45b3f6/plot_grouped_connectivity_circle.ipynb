{
  "cells": [
    {
      "cell_type": "markdown",
      "metadata": {},
      "source": [
        "\n# Plot grouped connectivity circle.\n\nExample showing how to read grouped aparc labels from yaml file and plot\ngrouped connectivity circle with these labels.\n\nAuthor: Praveen Sripad <pravsripad@gmail.com>\n        Christian Kiefer <ch.kiefer@fz-juelich.de>\n"
      ]
    },
    {
      "cell_type": "code",
      "execution_count": null,
      "metadata": {
        "collapsed": false
      },
      "outputs": [],
      "source": [
        "import os.path as op\nfrom jumeg import get_jumeg_path\nfrom jumeg.connectivity import (plot_grouped_connectivity_circle,\n                                generate_random_connectivity_matrix)\nimport yaml\n\nlabels_fname = get_jumeg_path() + '/data/desikan_label_names.yaml'\nyaml_cortex_fname = get_jumeg_path() + '/data/desikan_aparc_cortex_based_grouping.yaml'\nyaml_cluster_fname = get_jumeg_path() + '/data/desikan_aparc_cluster_based_grouping_example.yaml'\nreplacer_dict_fname = get_jumeg_path() + '/data/replacer_dictionaries.yaml'\n\nwith open(labels_fname, 'r') as f:\n    label_names = yaml.safe_load(f)['label_names']\n\nwith open(replacer_dict_fname, 'r') as f:\n    replacer_dict = yaml.safe_load(f)['replacer_dict_aparc']\n\n# make a random matrix with 68 nodes\ncon = generate_random_connectivity_matrix(size=(68, 68), symmetric=True)\n\n# plot simple connectivity circle with cortex based grouping and colors\nplot_grouped_connectivity_circle(yaml_cortex_fname, con, label_names,\n                                 labels_mode='replace', replacer_dict=replacer_dict,\n                                 out_fname='fig_grouped_con_circle_cortex.png',\n                                 colorbar_pos=(0.1, 0.1), n_lines=10, colorbar=True,\n                                 colormap='viridis')\n\n# plot connectivity circle with cluster-based grouping but same node colors as above\nplot_grouped_connectivity_circle(yaml_cluster_fname, con, label_names,\n                                 labels_mode=None, replacer_dict=None,\n                                 yaml_color_fname=yaml_cortex_fname,\n                                 out_fname='fig_grouped_con_circle_cluster.png',\n                                 colorbar_pos=(0.1, 0.1), n_lines=10, colorbar=True,\n                                 colormap='viridis')"
      ]
    }
  ],
  "metadata": {
    "kernelspec": {
      "display_name": "Python 3",
      "language": "python",
      "name": "python3"
    },
    "language_info": {
      "codemirror_mode": {
        "name": "ipython",
        "version": 3
      },
      "file_extension": ".py",
      "mimetype": "text/x-python",
      "name": "python",
      "nbconvert_exporter": "python",
      "pygments_lexer": "ipython3",
      "version": "3.9.16"
    }
  },
  "nbformat": 4,
  "nbformat_minor": 0
}