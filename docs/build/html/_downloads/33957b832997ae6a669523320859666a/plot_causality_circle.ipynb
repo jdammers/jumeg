{
  "cells": [
    {
      "cell_type": "markdown",
      "metadata": {},
      "source": [
        "\n# Plot Causality Matrix\n\nExample showing how to plot a causality matrix on a circle plot.\n"
      ]
    },
    {
      "cell_type": "code",
      "execution_count": null,
      "metadata": {
        "collapsed": false
      },
      "outputs": [],
      "source": [
        "import numpy as np\n\nfrom jumeg import get_jumeg_path\nfrom jumeg.connectivity import plot_grouped_causality_circle\nimport yaml\n\n# load the yaml grouping of Freesurfer labels\nyaml_fname = get_jumeg_path() + '/data/desikan_aparc_cortex_based_grouping.yaml'\nlabels_fname = get_jumeg_path() + '/data/desikan_label_names.yaml'\nreplacer_dict_fname = get_jumeg_path() + '/data/replacer_dictionaries.yaml'\n\nwith open(labels_fname, 'r') as f:\n    label_names = yaml.safe_load(f)['label_names']\n\nwith open(replacer_dict_fname, 'r') as f:\n    replacer_dict = yaml.safe_load(f)['replacer_dict_aparc']\n\n# make a random causality matrix\nn_nodes = 68  # currently needs to be always this number\ncaus = np.random.random((n_nodes, n_nodes))\ncaus[np.diag_indices_from(caus)] = 0.\ncaus[caus < 0.7] = 0.\n\nplot_grouped_causality_circle(caus, yaml_fname, label_names, n_lines=10,\n                              labels_mode='replace', replacer_dict=replacer_dict,\n                              out_fname='fig_causality_circle.png',\n                              colormap='Blues', colorbar=True,\n                              figsize=(6, 6), show=False,\n                              arrowstyle='->,head_length=1,head_width=1')"
      ]
    }
  ],
  "metadata": {
    "kernelspec": {
      "display_name": "Python 3",
      "language": "python",
      "name": "python3"
    },
    "language_info": {
      "codemirror_mode": {
        "name": "ipython",
        "version": 3
      },
      "file_extension": ".py",
      "mimetype": "text/x-python",
      "name": "python",
      "nbconvert_exporter": "python",
      "pygments_lexer": "ipython3",
      "version": "3.9.16"
    }
  },
  "nbformat": 4,
  "nbformat_minor": 0
}