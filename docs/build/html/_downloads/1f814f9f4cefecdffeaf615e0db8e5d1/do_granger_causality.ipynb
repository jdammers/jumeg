{
  "cells": [
    {
      "cell_type": "markdown",
      "metadata": {},
      "source": [
        "\n# Granger Causality Analysis\n\nPerform Granger based causality analysis using Generalized Parital Directed\nCoherence on example dataset.\n\nUses the data and example from mne-python combined with the Scot package\nto perform the Granger Causality analysis.\n\nAuthor: Praveen Sripad <pravsripad@gmail.com>\n"
      ]
    },
    {
      "cell_type": "code",
      "execution_count": null,
      "metadata": {
        "collapsed": false
      },
      "outputs": [],
      "source": [
        "import numpy as np\nfrom scipy import stats\n\nimport mne\nfrom mne.datasets import sample\nfrom mne.minimum_norm import apply_inverse_epochs, read_inverse_operator\nfrom jumeg.jumeg_utils import get_jumeg_path\nfrom jumeg.connectivity.causality import (compute_order, do_mvar_evaluation,\n                                          prepare_causality_matrix)\nfrom jumeg.connectivity import (plot_grouped_connectivity_circle,\n                                plot_grouped_causality_circle)\n\nimport scot\nimport scot.connectivity_statistics as scs\nfrom scot.connectivity import connectivity\nimport yaml\n\nimport time\nt_start = time.time()\n\nprint(('Scot version -', scot.__version__))\n\nyaml_fname = get_jumeg_path() + '/data/desikan_aparc_cortex_based_grouping.yaml'\nlabels_fname = get_jumeg_path() + '/data/desikan_label_names.yaml'\n\ndata_path = sample.data_path()\nsubjects_dir = data_path + '/subjects'\nfname_inv = data_path + '/MEG/sample/sample_audvis-meg-oct-6-meg-inv.fif'\nfname_raw = data_path + '/MEG/sample/sample_audvis_filt-0-40_raw.fif'\nfname_event = data_path + '/MEG/sample/sample_audvis_filt-0-40_raw-eve.fif'\n\n# Load data\ninverse_operator = read_inverse_operator(fname_inv)\nraw = mne.io.read_raw_fif(fname_raw)\nevents = mne.read_events(fname_event)\n\n# Add a bad channel\nraw.info['bads'] += ['MEG 2443']\n\n# Pick MEG channels\npicks = mne.pick_types(raw.info, meg=True, eeg=False, stim=False, eog=True,\n                       exclude='bads')\n\n# Define epochs for left-auditory condition\nevent_id, tmin, tmax = 1, -0.2, 0.5\nepochs = mne.Epochs(raw, events, event_id, tmin, tmax, picks=picks,\n                    baseline=(None, 0), reject=dict(mag=4e-12, grad=4000e-13,\n                                                    eog=150e-6))\nif not epochs.preload:\n    epochs.load_data()\n\n# parameters, lots of parameters\nsnr = 1.0\nlambda2 = 1.0 / snr ** 2\nmethod = \"MNE\"  # use MNE method (could also be MNE or sLORETA)\nstcs = apply_inverse_epochs(epochs, inverse_operator, lambda2, method,\n                            pick_ori=\"normal\", return_generator=True)\n\n# Get labels for FreeSurfer 'aparc' cortical parcellation with 34 labels/hemi\nlabels = mne.read_labels_from_annot('sample', parc='aparc',\n                                    subjects_dir=subjects_dir)\nlabel_colors = [label.color for label in labels]\n\n# Average the source estimates within each label using sign-flips to reduce\n# signal cancellations, also here we return a generator\nsrc = inverse_operator['src']\nlabel_ts = mne.extract_label_time_course(stcs, labels, src, mode='mean_flip',\n                                         return_generator=False)\nlabel_ts_ = np.array(label_ts)\n\nbands = ['alpha']\nfreqs = [(8, 13)]\ngcmethod = 'GPDC'\nn_surr = 1  # number of surrogates\nsurr_thresh = 95  # percentile of surr threshold used\nn_jobs = 1\nnfft = 512\n\n# normalize the representative ts\nprint('\\nperform normalization using zscoring...')\nlabel_ts = stats.zscore(label_ts_, axis=2)\n\nmorder = 15  # set fixed model order\n\n# set this to find the optimal model order using the BIC criterion\n# be advised, this takes a long time !!\n# morder, bic = compute_order(label_ts, m_max=100)  # code provided by Qunxi\n# print('the model order based on BIC is..', morder)\n\n# evaluate the chosen model order\nprint(('\\nShape of label_ts -', label_ts.shape))\n# mvar needs (trials, channels, samples)\nprint(('\\nRunning for model order - ', morder))\n\nthr_cons, whit_min, whit_max = 0.8, 1., 3.\nis_white, consistency, is_stable = do_mvar_evaluation(label_ts, morder,\n                                                      whit_max, whit_min,\n                                                      thr_cons)\nprint(('model_order, whiteness, consistency, stability: %d, %s, %f, %s\\n'\n      % (morder, str(is_white), consistency, str(is_stable))))\n\n# compute the Granger Partial Directed Coherence values\nprint('computing GPDC connectivity...')\n\nmvar = scot.var.VAR(morder)\n# result : array, shape (`repeats`, n_channels, n_channels, nfft)\nsurr = scs.surrogate_connectivity(gcmethod, label_ts, mvar, nfft=nfft,\n                                  n_jobs=n_jobs, repeats=n_surr)\n\nmvar.fit(label_ts)\n# mvar coefficients (n_channels, n_channels * model_order)\n# mvar covariance matrix (n_channels, n_channels)\n# result : array, shape (n_channels, n_channels, `nfft`)\ncau = connectivity(gcmethod, mvar.coef, mvar.rescov, nfft=nfft)\n\n# get the band averaged, thresholded connectivity matrix\ncaus, max_cons, max_surrs = prepare_causality_matrix(\n    cau, surr, freqs, nfft=nfft,\n    sfreq=epochs.info['sfreq'], surr_thresh=surr_thresh)\n\nprint(('Shape of causality matrix: ', caus.shape))\n\n# read the label names used for plotting\n# with open(labels_fname, 'r') as f:\n#     label_names = pickle.load(f)\n\nwith open(labels_fname, 'r') as f:\n    label_names = yaml.safe_load(f)['label_names']\n\nplot_grouped_causality_circle(caus[0], yaml_fname, label_names, n_lines=10,\n                              labels_mode=None, replacer_dict=None,\n                              out_fname='causality_sample.png',\n                              colormap='Blues', colorbar=True,\n                              arrowstyle='->,head_length=1,head_width=1',\n                              figsize=(10, 6), show=False)\n\nt_end = time.time()\ntotal_time_taken = t_end - t_start\nprint(('Total time taken in minutes: %f' % (total_time_taken / 60.)))"
      ]
    }
  ],
  "metadata": {
    "kernelspec": {
      "display_name": "Python 3",
      "language": "python",
      "name": "python3"
    },
    "language_info": {
      "codemirror_mode": {
        "name": "ipython",
        "version": 3
      },
      "file_extension": ".py",
      "mimetype": "text/x-python",
      "name": "python",
      "nbconvert_exporter": "python",
      "pygments_lexer": "ipython3",
      "version": "3.9.16"
    }
  },
  "nbformat": 4,
  "nbformat_minor": 0
}