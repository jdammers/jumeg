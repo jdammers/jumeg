{
  "cells": [
    {
      "cell_type": "markdown",
      "metadata": {},
      "source": [
        "\n# Plot labelled connectivity circle\n\nExample exposing the plot_labelled_group_connectivity_circle function.\n\nAuthor: Praveen Sripad <pravsripad@gmail.com>\n"
      ]
    },
    {
      "cell_type": "code",
      "execution_count": null,
      "metadata": {
        "collapsed": false
      },
      "outputs": [],
      "source": [
        "import os.path as op\nfrom jumeg.connectivity import (plot_labelled_group_connectivity_circle,\n                                generate_random_connectivity_matrix)\nfrom jumeg import get_jumeg_path\nimport yaml\n\n# load the yaml grouping of Freesurfer labels\nyaml_fname = op.join(get_jumeg_path(), 'data/rsn_desikan_aparc_cortex_grouping.yaml')\nlabel_names_yaml_fname = op.join(get_jumeg_path(), 'data/desikan_label_names.yaml')\n\nwith open(label_names_yaml_fname, 'r') as f:\n    label_names = yaml.safe_load(f)['label_names']\n\n# make a random matrix with 68 nodes\ncon = generate_random_connectivity_matrix(size=(68, 68), symmetric=True)\n\n# plotting within a subplot\nplot_labelled_group_connectivity_circle(yaml_fname, con, label_names,\n                                        out_fname='fig_rsn_circle.png',\n                                        show=False, n_lines=20,\n                                        fontsize_names=6,\n                                        title='test RSN circ labels')"
      ]
    }
  ],
  "metadata": {
    "kernelspec": {
      "display_name": "Python 3",
      "language": "python",
      "name": "python3"
    },
    "language_info": {
      "codemirror_mode": {
        "name": "ipython",
        "version": 3
      },
      "file_extension": ".py",
      "mimetype": "text/x-python",
      "name": "python",
      "nbconvert_exporter": "python",
      "pygments_lexer": "ipython3",
      "version": "3.9.16"
    }
  },
  "nbformat": 4,
  "nbformat_minor": 0
}