{
  "cells": [
    {
      "cell_type": "markdown",
      "metadata": {},
      "source": [
        "\n# Plot Destriux Atlas\n\nRead grouped aparc labels from yaml file.\n\nPlot grouped connectivity circle with these grouped labels\nfor the Destriux atlas.\n"
      ]
    },
    {
      "cell_type": "code",
      "execution_count": null,
      "metadata": {
        "collapsed": false
      },
      "outputs": [],
      "source": [
        "import os.path as op\nfrom jumeg import get_jumeg_path\nfrom jumeg.connectivity import (plot_grouped_connectivity_circle,\n                                generate_random_connectivity_matrix)\nimport yaml\n\ngrouping_yaml_fname = op.join(get_jumeg_path(), 'data/destriux_aparc_cortex_based_grouping.yaml')\nlabel_names_yaml_fname = op.join(get_jumeg_path(), 'data/destriux_label_names.yaml')\n\nwith open(label_names_yaml_fname, 'r') as f:\n    label_names = yaml.safe_load(f)['label_names']\n\n# make a random matrix with 148 nodes\ncon = generate_random_connectivity_matrix(size=(148, 148), symmetric=True)\ncon[con < 0.5] = 0.\n\n# plot grouped connnectivity\nplot_grouped_connectivity_circle(grouping_yaml_fname, con, label_names,\n                                 labels_mode=None, colorbar_pos=(0.1, 0.1),\n                                 replacer_dict=None,\n                                 out_fname='fig_destriux_circle.png',\n                                 n_lines=50, colorbar=True)"
      ]
    }
  ],
  "metadata": {
    "kernelspec": {
      "display_name": "Python 3",
      "language": "python",
      "name": "python3"
    },
    "language_info": {
      "codemirror_mode": {
        "name": "ipython",
        "version": 3
      },
      "file_extension": ".py",
      "mimetype": "text/x-python",
      "name": "python",
      "nbconvert_exporter": "python",
      "pygments_lexer": "ipython3",
      "version": "3.9.16"
    }
  },
  "nbformat": 4,
  "nbformat_minor": 0
}