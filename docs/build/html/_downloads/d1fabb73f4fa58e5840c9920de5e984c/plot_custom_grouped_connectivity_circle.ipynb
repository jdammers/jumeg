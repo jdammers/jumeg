{
  "cells": [
    {
      "cell_type": "markdown",
      "metadata": {},
      "source": [
        "\n# Plot Custom Grouped Circle\n\nExample how to create a custom label groups and plot grouped connectivity\ncircle with these labels.\n\nAuthor: Praveen Sripad <pravsripad@gmail.com>\n        Christian Kiefer <ch.kiefer@fz-juelich.de>\n"
      ]
    },
    {
      "cell_type": "code",
      "execution_count": null,
      "metadata": {
        "collapsed": false
      },
      "outputs": [],
      "source": [
        "import os.path as op\nimport matplotlib.pyplot as plt\nfrom jumeg import get_jumeg_path\nfrom jumeg.connectivity import (plot_grouped_connectivity_circle,\n                                generate_random_connectivity_matrix)\n\nimport yaml\n\nlabels_fname = op.join(get_jumeg_path(), 'data/desikan_label_names.yaml')\nreplacer_dict_fname = op.join(get_jumeg_path(), 'data/replacer_dictionaries.yaml')\n\nwith open(labels_fname, 'r') as f:\n    label_names = yaml.safe_load(f)['label_names']\n\nwith open(replacer_dict_fname, 'r') as f:\n    replacer_dict = yaml.safe_load(f)['replacer_dict_aparc']\n\n# make a random matrix with 68 nodes\ncon = generate_random_connectivity_matrix(size=(68, 68), symmetric=True)\n\n# make groups based on lobes\noccipital = ['lateraloccipital', 'lingual', 'cuneus', 'pericalcarine']\nparietal = ['superiorparietal', 'inferiorparietal', 'precuneus',\n            'postcentral', 'supramarginal']\ntemporal = ['bankssts', 'temporalpole', 'superiortemporal', 'middletemporal',\n            'transversetemporal', 'inferiortemporal', 'fusiform',\n            'entorhinal', 'parahippocampal']\ninsula = ['insula']\ncingulate = ['rostralanteriorcingulate', 'caudalanteriorcingulate',\n             'posteriorcingulate', 'isthmuscingulate']\nfrontal = ['superiorfrontal', 'rostralmiddlefrontal', 'caudalmiddlefrontal',\n           'parsopercularis', 'parsorbitalis', 'parstriangularis',\n           'lateralorbitofrontal', 'medialorbitofrontal', 'precentral',\n           'paracentral', 'frontalpole']\n\n# we need a list of dictionaries, one dict for each group to denote grouping\nlabel_groups = [{'occipital': occipital}, {'parietal': parietal},\n                {'temporal': temporal}, {'insula': insula},\n                {'cingulate': cingulate},\n                {'frontal': frontal}]\n\nn_colors = len(label_groups)\ncmap = plt.get_cmap('Pastel1')\ncortex_colors = cmap.colors[:n_colors] + cmap.colors[:n_colors][::-1]\n\n# plot simple connectivity circle with cortex based grouping and colors\nplot_grouped_connectivity_circle(label_groups, con, label_names,\n                                 labels_mode='replace',\n                                 replacer_dict=replacer_dict,\n                                 cortex_colors=cortex_colors, vmin=0., vmax=1.,\n                                 out_fname='fig_grouped_con_circle_cortex.png',\n                                 colorbar_pos=(0.1, 0.1), n_lines=50, colorbar=True,\n                                 colormap='viridis')"
      ]
    }
  ],
  "metadata": {
    "kernelspec": {
      "display_name": "Python 3",
      "language": "python",
      "name": "python3"
    },
    "language_info": {
      "codemirror_mode": {
        "name": "ipython",
        "version": 3
      },
      "file_extension": ".py",
      "mimetype": "text/x-python",
      "name": "python",
      "nbconvert_exporter": "python",
      "pygments_lexer": "ipython3",
      "version": "3.9.16"
    }
  },
  "nbformat": 4,
  "nbformat_minor": 0
}