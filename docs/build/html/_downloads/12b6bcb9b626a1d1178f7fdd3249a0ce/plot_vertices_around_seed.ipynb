{
  "cells": [
    {
      "cell_type": "markdown",
      "metadata": {},
      "source": [
        "\n# Plot vertices around seed.\n\nFind distances between vertices and plot vertices in a small region.\n\nmainly using functions from within mne.label.grow_labels\n"
      ]
    },
    {
      "cell_type": "code",
      "execution_count": null,
      "metadata": {
        "collapsed": false
      },
      "outputs": [],
      "source": [
        "import os.path as op\nimport mne\nfrom mne.datasets import sample\n\ndata_path = sample.data_path()\nsubjects_dir = op.join(data_path, 'subjects')\n\ntris, vert, dist = {}, {}, {}\nhemi = 0  # lh\n\n# read the surface\nvert[hemi], tris[hemi] = mne.read_surface(subjects_dir + '/fsaverage/surf/lh.inflated')\n\n# obtain distance matrix\ndist[hemi] = mne.label.mesh_dist(tris[hemi], vert[hemi])\n\n# choose seed vertex as 20 and plot vertices within 5mm radius around it\n# obtain neighbouring vertices within 5mm distance\nmy_verts, my_dist = mne.label._verts_within_dist(dist[hemi], [20], 5)\n\n# number of vertices in a given radius\nprint(len(my_verts))\n\nfrom surfer import Brain\nbrain = Brain('fsaverage', hemi='lh', surf='inflated',\n              subjects_dir=subjects_dir)\n\nfor myv in my_verts:\n    brain.add_foci(myv, coords_as_verts=True, color='b', scale_factor=0.1)"
      ]
    }
  ],
  "metadata": {
    "kernelspec": {
      "display_name": "Python 3",
      "language": "python",
      "name": "python3"
    },
    "language_info": {
      "codemirror_mode": {
        "name": "ipython",
        "version": 3
      },
      "file_extension": ".py",
      "mimetype": "text/x-python",
      "name": "python",
      "nbconvert_exporter": "python",
      "pygments_lexer": "ipython3",
      "version": "3.9.16"
    }
  },
  "nbformat": 4,
  "nbformat_minor": 0
}