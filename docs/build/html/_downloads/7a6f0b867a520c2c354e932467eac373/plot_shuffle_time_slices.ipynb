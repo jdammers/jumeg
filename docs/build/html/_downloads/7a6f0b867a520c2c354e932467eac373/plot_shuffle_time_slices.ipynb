{
  "cells": [
    {
      "cell_type": "markdown",
      "metadata": {},
      "source": [
        "\n# Shuffle channels' data in the time domain and plot.\n"
      ]
    },
    {
      "cell_type": "code",
      "execution_count": null,
      "metadata": {
        "collapsed": false
      },
      "outputs": [],
      "source": [
        "# Author: Eberhard Eich\n#         Praveen Sripad\n#\n# License: BSD (3-clause)\n\nimport os.path as op\nimport numpy as np\n\nimport mne\nfrom mne.datasets import sample\n\nfrom jumeg.jumeg_utils import (get_files_from_list, time_shuffle_slices,\n                               channel_indices_from_list)\n\ndata_path = sample.data_path()\nraw_fname = op.join(data_path, 'MEG/sample/sample_audvis_raw.fif')\n\n# shuffle all MEG channels that begin with number 11\nshflchanlist = ['MEG 11..']\n\n# shuffle the whole length of the data\ntmin, tmax = 0., None\n\n# apply the shuffling\n# time_shuffle_slices(raw_fname, shufflechans=shflchanlist, tmin=tmin, tmax=tmax)\n\nplot_things = True\nif plot_things:\n    permname = op.join(op.dirname(raw_fname),\n                       op.basename(raw_fname).split('-')[0]) + ',tperm-raw.fif'\n\n    rawraw = mne.io.Raw(raw_fname,preload=True)\n    shflpick = channel_indices_from_list(rawraw.info['ch_names'][:],\n                                         shflchanlist)\n    procdperm = mne.io.Raw(permname, preload=True)\n\n    figraw = rawraw.plot_psd(fmin=0., fmax=300., tmin=0., color=(1,0,0), picks=shflpick)\n    axisraw = figraw.gca()\n    axisraw.set_ylim([-300., -250.])\n    # procdnr.plot_psd(fmin=0.,fmax=300., color=(0,0,1), picks=shflpick)\n    figshfl = procdperm.plot_psd(fmin=0., fmax=300., tmin=0., color=(1,0,0), picks=shflpick)\n    axisshfl = figshfl.gca()\n    axisshfl.set_ylim([-300., -250.])\n\n    megpick = mne.pick_types(rawraw.info, meg=True, ref_meg=False, eeg=False, eog=False, stim=False)\n\n    figraw1 = rawraw.plot_psd(fmin=0., fmax=300., tmin=0., color=(0,0,1), picks=megpick)\n    axisraw1 = figraw1.gca()\n    axisraw1.set_ylim([-300., -250.])\n\n    figshfl1 = procdperm.plot_psd(fmin=0., fmax=300., tmin=0., color=(0,0,1), picks=megpick)\n    axisshfl1 = figshfl1.gca()\n    axisshfl1.set_ylim([-300., -250.])\n\n    megnochgpick = np.setdiff1d(megpick, shflpick)\n\n    figraw2 = rawraw.plot_psd(fmin=0., fmax=300., tmin=0., color=(0,1,0), picks=megnochgpick)\n    axisraw2 = figraw2.gca()\n    axisraw2.set_ylim([-300., -250.])\n\n    figshfl2 = procdperm.plot_psd(fmin=0., fmax=300., tmin=0., color=(0,1,0), picks=megnochgpick)\n    axisshfl2 = figshfl2.gca()\n    axisshfl2.set_ylim([-300., -250.])"
      ]
    }
  ],
  "metadata": {
    "kernelspec": {
      "display_name": "Python 3",
      "language": "python",
      "name": "python3"
    },
    "language_info": {
      "codemirror_mode": {
        "name": "ipython",
        "version": 3
      },
      "file_extension": ".py",
      "mimetype": "text/x-python",
      "name": "python",
      "nbconvert_exporter": "python",
      "pygments_lexer": "ipython3",
      "version": "3.9.16"
    }
  },
  "nbformat": 4,
  "nbformat_minor": 0
}