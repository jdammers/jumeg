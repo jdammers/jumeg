{
  "cells": [
    {
      "cell_type": "markdown",
      "metadata": {},
      "source": [
        "\n# Generic Grouped Connectivity Circle\n\nScript exposing circle plots with outer ring.\n\nAuthor: Praveen Sripad <pravsripad@gmail.com>\n"
      ]
    },
    {
      "cell_type": "code",
      "execution_count": null,
      "metadata": {
        "collapsed": false
      },
      "outputs": [],
      "source": [
        "import os.path as op\nfrom jumeg.connectivity import (plot_generic_grouped_circle,\n                                plot_fica_grouped_circle,\n                                generate_random_connectivity_matrix)\nfrom jumeg import get_jumeg_path\n\n# load the yaml grouping of Freesurfer labels\nyaml_fname = op.join(get_jumeg_path(), 'data/rsn_desikan_aparc_cortex_grouping.yaml')\n\n# make a random matrix\ncon = generate_random_connectivity_matrix(size=(34, 34), symmetric=True)\n\n# load the label names in the original order\n# this should be same order as the connectivity matrix\nlabels_fname = op.join(get_jumeg_path(), 'data/fica_names.txt')\nwith open(labels_fname, 'r') as f:\n    orig_labels = [line.rstrip('\\n') for line in f]\n\n# plot the connectivity circle grouped\nplot_generic_grouped_circle(yaml_fname, con, orig_labels,\n                            node_order_size=34,\n                            out_fname='fig_fica_circle.png',\n                            show=False, n_lines=20,\n                            title='Groups')\n\n# plot the connectivity circle with outer group labels ring\nplot_fica_grouped_circle(yaml_fname, con, orig_labels,\n                         node_order_size=34,\n                         out_fname='fig_fica_circle_with_names.png',\n                         show=False, n_lines=20,\n                         title='Groups + Labels')"
      ]
    }
  ],
  "metadata": {
    "kernelspec": {
      "display_name": "Python 3",
      "language": "python",
      "name": "python3"
    },
    "language_info": {
      "codemirror_mode": {
        "name": "ipython",
        "version": 3
      },
      "file_extension": ".py",
      "mimetype": "text/x-python",
      "name": "python",
      "nbconvert_exporter": "python",
      "pygments_lexer": "ipython3",
      "version": "3.9.16"
    }
  },
  "nbformat": 4,
  "nbformat_minor": 0
}