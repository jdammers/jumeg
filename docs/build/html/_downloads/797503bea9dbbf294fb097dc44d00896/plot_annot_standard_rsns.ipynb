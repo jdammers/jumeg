{
  "cells": [
    {
      "cell_type": "markdown",
      "metadata": {},
      "source": [
        "\n# Visualise Standard RSNs\n\nGrow and visualize standard resting state ROIs from literature.\n\n1. Read ROIs of standard regions involved in resting state networks from literature.\n   (the data is provided as a csv file with list of regions with seed MNI coordinates)\n2. Grow labels of 1cm radius (approx) in the surface source space.\n3. Make annotation and visualize the labels.\n\nUses RSNs provided by [1]\n[1] P. Garc\u00e9s, M. C. Mart\u00edn-Buro, and F. Maest\u00fa,\n\u201cQuantifying the Test-Retest Reliability of Magnetoencephalography\nResting-State Functional Connectivity,\u201d Brain Connect., vol. 6, no. 6, pp. 448\u2013460, 2016.\n\nAuthor: Praveen Sripad <pravsripad@gmail.com>\n"
      ]
    },
    {
      "cell_type": "code",
      "execution_count": null,
      "metadata": {
        "collapsed": false
      },
      "outputs": [],
      "source": [
        "import os.path as op\nimport numpy as np\nimport mne\n\nfrom mne.datasets import sample\nfrom jumeg.jumeg_utils import get_jumeg_path\nfrom jumeg.connectivity import make_annot_from_csv\n\nfrom nilearn import plotting\nfrom mne.viz import Brain\n\ndata_path = sample.data_path()\nsubject = 'sample'\nsubjects_dir = op.join(data_path, 'subjects')\nparc_fname = 'standard_garces_2016'\ncsv_fname = op.join(get_jumeg_path(), 'data', 'standard_rsns.csv')\n\n# set make_annot to True to save the annotation to disk\nlabels, coords, _ = make_annot_from_csv(subject, subjects_dir, csv_fname,\n                                        parc_fname=parc_fname, make_annot=False,\n                                        return_label_coords=True)\n\n# to plot mni coords on glass brain\nn_nodes = np.array(coords).shape[0]\n# make a random zero valued connectivity matrix\ncon = np.zeros((n_nodes, n_nodes))\n# plot the connectome on a glass brain background\nplotting.plot_connectome(con, coords)\nplotting.show()\n\n# plot the brain surface, foci and labels\nBrain = mne.viz.get_brain_class()\nbrain = Brain(subject, hemi='both', surf='white', subjects_dir=subjects_dir)\n\nfor mni_coord, mylabel in zip(coords, labels):\n    brain.add_foci(mni_coord, coords_as_verts=False, hemi=mylabel.hemi,\n                   color='red', scale_factor=0.6)\n    brain.add_label(mylabel, hemi=mylabel.hemi)"
      ]
    }
  ],
  "metadata": {
    "kernelspec": {
      "display_name": "Python 3",
      "language": "python",
      "name": "python3"
    },
    "language_info": {
      "codemirror_mode": {
        "name": "ipython",
        "version": 3
      },
      "file_extension": ".py",
      "mimetype": "text/x-python",
      "name": "python",
      "nbconvert_exporter": "python",
      "pygments_lexer": "ipython3",
      "version": "3.9.16"
    }
  },
  "nbformat": 4,
  "nbformat_minor": 0
}