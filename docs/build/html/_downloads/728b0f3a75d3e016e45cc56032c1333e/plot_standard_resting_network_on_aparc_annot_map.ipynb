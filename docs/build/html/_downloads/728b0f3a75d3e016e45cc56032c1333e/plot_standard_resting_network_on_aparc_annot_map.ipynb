{
  "cells": [
    {
      "cell_type": "markdown",
      "metadata": {},
      "source": [
        "\n# Standard RSNs on the connectivity circle\n\nPlot the visualization of the standard resting state network on the\nconnectivity circle plot showing the Freesurfer aparc annotation map.\n\nThis provides a quick visualization of the primary connections of the standard\nresting state network.\n\nUses the standard RSNs provided by [1]\n[1] P. Garc\u00e9s, M. C. Mart\u00edn-Buro, and F. Maest\u00fa,\n\u201cQuantifying the Test-Retest Reliability of Magnetoencephalography\nResting-State Functional Connectivity,\u201d Brain Connect., vol. 6, no. 6,\npp. 448\u2013460, 2016.\n\nAuthor: Praveen Sripad <pravsripad@gmail.com>\n"
      ]
    },
    {
      "cell_type": "code",
      "execution_count": null,
      "metadata": {
        "collapsed": false
      },
      "outputs": [],
      "source": [
        "import os.path as op\nimport numpy as np\nimport mne\n\nfrom mne.datasets import sample\nfrom jumeg.jumeg_utils import get_jumeg_path\nfrom jumeg.connectivity import make_annot_from_csv\nfrom jumeg.connectivity import plot_grouped_connectivity_circle\n\ndata_path = sample.data_path()\nsubject = 'sample'\nsubjects_dir = op.join(data_path, 'subjects')\nparc_fname = 'standard_garces_2016'\ncsv_fname = op.join(get_jumeg_path(), 'data', 'standard_rsns.csv')\n\n# set make_annot to True to save the annotation to disk\nlabels, coords, foci = make_annot_from_csv(subject, subjects_dir, csv_fname,\n                                           parc_fname=parc_fname,\n                                           make_annot=False,\n                                           return_label_coords=True)\n\naparc = mne.read_labels_from_annot('sample', subjects_dir=subjects_dir)\naparc_names = [apa.name for apa in aparc]\nlh_aparc = [mylab for mylab in aparc if mylab.hemi == 'lh']\nrh_aparc = [mylab for mylab in aparc if mylab.hemi == 'rh']\n\n# get the appropriate resting state labels\nrst_aparc = []\nfor i, rst_label in enumerate(labels):\n    myfoci = foci[i]  # get the vertex\n    if rst_label.hemi == 'lh':  # vertex hemi is stored in the rst_label\n        for mylab in lh_aparc:\n            if myfoci in mylab.vertices:\n                print('Left: ', rst_label.name, myfoci, mylab, aparc.index(mylab))\n                rst_aparc.append(mylab)\n    elif rst_label.hemi == 'rh':\n        for mylab in rh_aparc:\n            if myfoci in mylab.vertices:\n                print('Right: ', rst_label.name, myfoci, mylab, aparc.index(mylab))\n                rst_aparc.append(mylab)\n    else:\n        print('ERROR: ', rst_label)\n\n# only 16 labels in aparc show up, there are no vertices in the left hemi for\n# Frontoinsular_Median cingulate-lh\nrst_indices = [aparc.index(rst) for rst in rst_aparc]\n\nnetworks = {'Visual': ['lateraloccipital-lh', 'lateraloccipital-rh'],\n            'Sensorimotor': ['supramarginal-lh', 'supramarginal-rh'],\n            'Auditory': ['inferiortemporal-lh', 'middletemporal-rh'],\n            'DMN': ['precuneus-lh', 'inferiorparietal-lh',\n                    'inferiorparietal-rh', 'medialorbitofrontal-lh'],\n            'Left_FP': ['inferiorparietal-lh', 'superiortemporal-lh'],\n            'Right_FP': ['inferiorparietal-rh', 'superiortemporal-rh'],\n            'Frontoinsular': ['inferiortemporal-lh', 'inferiortemporal-rh']}\n\n# make a temporary connectivity matrix\nn_nodes = 68\ncon = np.zeros((n_nodes, n_nodes))\n\nrst_combindices = [[16, 31], [50, 14], [50, 15], [50, 28], [14, 15],\n                   [14, 28], [15, 28], [22, 23], [14, 60], [62, 63],\n                   [15, 61],\n                   [16, 17]]\n\n# assign different values to different networks manually\ncon[16, 31] = 0.4  # Auditory\ncon[50, 14] = con[50, 15] = con[50, 28] = con[14, 15] = con[14, 28] = con[15, 28] = 0.5  # DMN\ncon[22, 23] = 0.6  # Visual\ncon[14, 60] = 0.7  # Left FP\ncon[62, 63] = 0.8  # Sensorimotor\ncon[15, 61] = 0.9  # Right FP\ncon[16, 17] = 1  # Frontoinsular\n\ncon += con.T  # since we only add the combinations\n\n# plot the connectivity circle showing standard RSNs\nfrom matplotlib.colors import ListedColormap\ncmap = ListedColormap(['m', 'k', 'b', 'y', 'r', 'c', 'g'])\nyaml_fname = get_jumeg_path() + '/data/desikan_aparc_cortex_based_grouping.yaml'\n\nplot_grouped_connectivity_circle(yaml_fname, con, aparc_names, n_lines=12,\n                                 labels_mode=None, colormap=cmap, colorbar=True,\n                                 replacer_dict=None, indices=None,\n                                 out_fname='fig_rsn_circle_plot.png')"
      ]
    }
  ],
  "metadata": {
    "kernelspec": {
      "display_name": "Python 3",
      "language": "python",
      "name": "python3"
    },
    "language_info": {
      "codemirror_mode": {
        "name": "ipython",
        "version": 3
      },
      "file_extension": ".py",
      "mimetype": "text/x-python",
      "name": "python",
      "nbconvert_exporter": "python",
      "pygments_lexer": "ipython3",
      "version": "3.9.16"
    }
  },
  "nbformat": 4,
  "nbformat_minor": 0
}