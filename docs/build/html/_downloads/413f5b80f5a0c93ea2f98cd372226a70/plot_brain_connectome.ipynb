{
  "cells": [
    {
      "cell_type": "markdown",
      "metadata": {},
      "source": [
        "\n# Plot brain connectome\n\nPlot connectivity on a glass brain using 'plot_connectome' function from\nNilearn (https://nilearn.github.io/).\n\nAuthor: Praveen Sripad <pravsripad@gmail.com>\n"
      ]
    },
    {
      "cell_type": "code",
      "execution_count": null,
      "metadata": {
        "collapsed": false
      },
      "outputs": [],
      "source": [
        "import os.path as op\nimport numpy as np\nimport matplotlib.pyplot as plt\n\nimport mne\nfrom mne.datasets import sample\n\nfrom nilearn import plotting\n\nfrom jumeg.connectivity import generate_random_connectivity_matrix\n\ndata_path = sample.data_path()\nsubjects_dir = op.join(data_path, 'subjects')\nsubject = 'fsaverage'\n\naparc = mne.read_labels_from_annot(subject, subjects_dir=subjects_dir,\n                                   parc='aparc')\n\n# nodes in one hemisphere can be plotted as well\naparc_lh = [lab for lab in aparc if lab.hemi == 'lh']\n\ncoords = []\n\n# plot 10 nodes from left hemisphere only for better viz\nfor lab in aparc_lh[:10]:\n    if lab.name == 'unknown-lh':\n        continue\n    # get the center of mass\n    com = lab.center_of_mass('fsaverage')\n    # obtain mni coordinated to the vertex from left hemi\n    coords_ = mne.vertex_to_mni(com, hemis=0, subject=subject,\n                                subjects_dir=subjects_dir)\n    coords.append(coords_)\n\nn_nodes = np.array(coords).shape[0]\n\n# make a random connectivity matrix\ncon = generate_random_connectivity_matrix(size=(n_nodes, n_nodes),\n                                          symmetric=True)\n\n# plot the connectome on a glass brain background\nplotting.plot_connectome(con, coords)\nplt.show()"
      ]
    }
  ],
  "metadata": {
    "kernelspec": {
      "display_name": "Python 3",
      "language": "python",
      "name": "python3"
    },
    "language_info": {
      "codemirror_mode": {
        "name": "ipython",
        "version": 3
      },
      "file_extension": ".py",
      "mimetype": "text/x-python",
      "name": "python",
      "nbconvert_exporter": "python",
      "pygments_lexer": "ipython3",
      "version": "3.9.16"
    }
  },
  "nbformat": 4,
  "nbformat_minor": 0
}