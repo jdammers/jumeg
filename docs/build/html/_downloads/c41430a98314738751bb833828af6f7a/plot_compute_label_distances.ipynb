{
  "cells": [
    {
      "cell_type": "markdown",
      "metadata": {},
      "source": [
        "\n# Compute Label Distances\n\nScript show how to compute and visualize distance between label center of\nmasses for a given subject.\n\nAuthor: Praveen Sripad <pravsripad@gmail.com>\n"
      ]
    },
    {
      "cell_type": "code",
      "execution_count": null,
      "metadata": {
        "collapsed": false
      },
      "outputs": [],
      "source": [
        "import os.path as op\nfrom jumeg.connectivity import get_label_distances\nfrom surfer import Brain\nfrom nilearn import plotting\nfrom mne.datasets import sample\n\ndata_path = sample.data_path()\nsubjects_dir = op.join(data_path, 'subjects')\nsubject = 'sample'\nparc = 'aparc_sub'\n\n# compute the distances between COM's of the labels\nrounded_coms, coords, coms_lh, coms_rh = get_label_distances(subject,\n                                                             subjects_dir,\n                                                             parc=parc)\n# np.save('%s_distances.npy' % subject, rounded_com)\n\n# get maximum distance between ROIs\nprint('Max distance between ROIs', rounded_coms.ravel().max())\n\n# do plotting using PySurfer\nbrain = Brain(subject, hemi='both', surf='inflated', subjects_dir=subjects_dir)\nbrain.add_foci(coms_lh, coords_as_verts=True, hemi='lh')\nbrain.add_foci(coms_rh, coords_as_verts=True, hemi='rh')\nbrain.save_montage('%s_%s_coms.png' % (subject, parc),\n                   order=['lat', 'ven', 'med'],\n                   orientation='h', border_size=15, colorbar='auto',\n                   row=-1, col=-1)\nbrain.close()\n\n# show the label ROIs using Nilearn plotting\nfig = plotting.plot_connectome(rounded_coms, coords,\n                               edge_threshold='99%', node_color='cornflowerblue',\n                               title='%s - label distances' % parc)\nfig.savefig('fig_%s_label_distances.png' % parc)"
      ]
    }
  ],
  "metadata": {
    "kernelspec": {
      "display_name": "Python 3",
      "language": "python",
      "name": "python3"
    },
    "language_info": {
      "codemirror_mode": {
        "name": "ipython",
        "version": 3
      },
      "file_extension": ".py",
      "mimetype": "text/x-python",
      "name": "python",
      "nbconvert_exporter": "python",
      "pygments_lexer": "ipython3",
      "version": "3.9.16"
    }
  },
  "nbformat": 4,
  "nbformat_minor": 0
}