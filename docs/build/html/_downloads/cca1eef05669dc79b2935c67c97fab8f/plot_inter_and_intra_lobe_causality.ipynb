{
  "cells": [
    {
      "cell_type": "markdown",
      "metadata": {},
      "source": [
        "\n# Group Causality Matrix\n\nGroup a causality matrix by lobes and plot the resulting\ninter- and intra-lobe causality.\n\nAuthor: Christian Kiefer <ch.kiefer@fz-juelich.de>\n"
      ]
    },
    {
      "cell_type": "code",
      "execution_count": null,
      "metadata": {
        "collapsed": false
      },
      "outputs": [],
      "source": [
        "import os\nimport os.path as op\n\nimport numpy as np\nimport matplotlib.pyplot as plt\nimport mne\n\nfrom mne.datasets import sample\n\nprint(__doc__)\n\ndata_path = sample.data_path()\n\nfrom jumeg.connectivity.con_utils import group_con_matrix_by_lobe\nfrom jumeg.connectivity.con_viz import plot_grouped_causality_circle\nfrom jumeg.jumeg_utils import get_jumeg_path"
      ]
    },
    {
      "cell_type": "markdown",
      "metadata": {},
      "source": [
        "## Load the grouping files\n\n"
      ]
    },
    {
      "cell_type": "code",
      "execution_count": null,
      "metadata": {
        "collapsed": false
      },
      "outputs": [],
      "source": [
        "grouping_yaml_fname = op.join(get_jumeg_path(), 'data',\n                              'desikan_aparc_cortex_based_grouping_ck.yaml')\nlobe_grouping_yaml_fname = op.join(get_jumeg_path(), 'data',\n                                   'lobes_grouping.yaml')"
      ]
    },
    {
      "cell_type": "markdown",
      "metadata": {},
      "source": [
        "## Load anatomical labels\n\n"
      ]
    },
    {
      "cell_type": "code",
      "execution_count": null,
      "metadata": {
        "collapsed": false
      },
      "outputs": [],
      "source": [
        "subjects_dir = op.join(data_path, 'subjects')\nos.environ['SUBJECTS_DIR'] = subjects_dir\n\nfull_labels = mne.read_labels_from_annot(subject='fsaverage', parc='aparc',\n                                         hemi='both', subjects_dir=subjects_dir)\n\nfull_label_names = [full_label.name for full_label in full_labels if full_label.name.find('unknown') == -1]"
      ]
    },
    {
      "cell_type": "markdown",
      "metadata": {},
      "source": [
        "## create random causality matrix\n\n"
      ]
    },
    {
      "cell_type": "code",
      "execution_count": null,
      "metadata": {
        "collapsed": false
      },
      "outputs": [],
      "source": [
        "# create causality matrix\nnp.random.seed(42)\ncau = np.random.uniform(-0.99, 0.01, (len(full_label_names), len(full_label_names)))\n\ncau[cau < 0] = 0\ncau = cau / 0.01  # values between 0 and 1\n\ncau_grp, grp_label_names = group_con_matrix_by_lobe(con=cau, label_names=full_label_names,\n                                                    grouping_yaml_fname=grouping_yaml_fname)"
      ]
    },
    {
      "cell_type": "markdown",
      "metadata": {},
      "source": [
        "## Compare original matrix with grouped matrix plot\n\n"
      ]
    },
    {
      "cell_type": "code",
      "execution_count": null,
      "metadata": {
        "collapsed": false
      },
      "outputs": [],
      "source": [
        "fig = plot_grouped_causality_circle(cau, grouping_yaml_fname, full_label_names,\n                                    title='original causality matrix', n_lines=None,\n                                    labels_mode=None, replacer_dict=None, out_fname=None,\n                                    colormap='magma_r', colorbar=True, colorbar_pos=(-0.25, 0.05),\n                                    arrowstyle='->,head_length=0.7,head_width=0.4',\n                                    figsize=(9.1, 6), vmin=0., vmax=1.0, ignore_diagonal=True,\n                                    show=True)\n\nplt.close(fig)\n\nfig = plot_grouped_causality_circle(cau_grp, lobe_grouping_yaml_fname, grp_label_names,\n                                    title='test', n_lines=None, labels_mode=None,\n                                    replacer_dict=None, out_fname=None, colormap='magma_r',\n                                    colorbar=True, colorbar_pos=(-0.25, 0.05),\n                                    arrowstyle='->,head_length=0.7,head_width=0.4',\n                                    figsize=(9.1, 6), vmin=0., ignore_diagonal=False,\n                                    show=True)\n\nplt.close(fig)"
      ]
    }
  ],
  "metadata": {
    "kernelspec": {
      "display_name": "Python 3",
      "language": "python",
      "name": "python3"
    },
    "language_info": {
      "codemirror_mode": {
        "name": "ipython",
        "version": 3
      },
      "file_extension": ".py",
      "mimetype": "text/x-python",
      "name": "python",
      "nbconvert_exporter": "python",
      "pygments_lexer": "ipython3",
      "version": "3.9.16"
    }
  },
  "nbformat": 4,
  "nbformat_minor": 0
}