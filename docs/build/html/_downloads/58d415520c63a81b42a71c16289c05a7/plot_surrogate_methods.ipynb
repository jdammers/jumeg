{
  "cells": [
    {
      "cell_type": "markdown",
      "metadata": {},
      "source": [
        "\n# Plot surrogate methods\n\nPlotting vrious methods used to generate surrogates.\n"
      ]
    },
    {
      "cell_type": "code",
      "execution_count": null,
      "metadata": {
        "collapsed": false
      },
      "outputs": [],
      "source": [
        "import numpy as np\nimport mne\nfrom jumeg.jumeg_surrogates import Surrogates, check_power_spectrum\nimport matplotlib.pyplot as pl\n\nmysurr = Surrogates.SimpleTestData()\n\n# do shuffling\nshuffled = mysurr.shuffle_time_points(mysurr.original_data)\n\npl.figure('shuffled')\npl.title('shuffled')\npl.plot(mysurr.original_data[0])\npl.plot(shuffled[0], color='r')\n\n# do shifting\nshifted = mysurr.shift_data(mysurr.original_data)\n\npl.figure('shifted')\npl.title('Shifted')\npl.plot(mysurr.original_data[0])\npl.plot(shifted[0], color='r')\n\n# do phase randomization\nphase_random = mysurr.randomize_phase(mysurr.original_data)\n\npl.figure('phase_randomize')\npl.title('phase_randomize')\npl.plot(mysurr.original_data[0])\npl.plot(phase_random[0], color='r')\n\n# do phase randomize as in scot\nphase_random_scot = mysurr.randomize_phase_scot(mysurr.original_data)\n\npl.figure('phase_randomize_scot')\npl.title('phase_randomize_scot')\npl.plot(mysurr.original_data[0])\npl.plot(phase_random_scot[0], color='r')\n\ncheck_power_spectrum(mysurr.original_data, phase_random)\ncheck_power_spectrum(mysurr.original_data, phase_random_scot)\n\npl.show()"
      ]
    }
  ],
  "metadata": {
    "kernelspec": {
      "display_name": "Python 3",
      "language": "python",
      "name": "python3"
    },
    "language_info": {
      "codemirror_mode": {
        "name": "ipython",
        "version": 3
      },
      "file_extension": ".py",
      "mimetype": "text/x-python",
      "name": "python",
      "nbconvert_exporter": "python",
      "pygments_lexer": "ipython3",
      "version": "3.9.16"
    }
  },
  "nbformat": 4,
  "nbformat_minor": 0
}