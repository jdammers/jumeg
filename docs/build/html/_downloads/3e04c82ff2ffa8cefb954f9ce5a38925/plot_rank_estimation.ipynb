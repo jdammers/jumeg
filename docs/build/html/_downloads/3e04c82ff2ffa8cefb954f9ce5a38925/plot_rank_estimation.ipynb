{
  "cells": [
    {
      "cell_type": "markdown",
      "metadata": {},
      "source": [
        "\n# Plot rank estimation\n\nExample script to estimate the rank of the given data array.\n"
      ]
    },
    {
      "cell_type": "code",
      "execution_count": null,
      "metadata": {
        "collapsed": false
      },
      "outputs": [],
      "source": [
        "import os.path as op\nimport mne\nimport numpy as np\nfrom mne.datasets import sample\nfrom sklearn.decomposition import PCA\nimport matplotlib.pyplot as plt\nfrom matplotlib import cm\nfrom jumeg.jumeg_utils import rank_estimation\nfrom jumeg.decompose.dimension_selection import mibs, bic, gap, aic, mdl, explVar, fa_rank_cv, pca_rank_cv\n\n# ----------------------------------------\n# filenames and path\n# ----------------------------------------\ndata_path = sample.data_path()\nsubjects_dir = op.join(data_path, 'subjects')\nfname_raw = op.join(data_path, 'MEG/sample/sample_audvis_filt-0-40_raw.fif')\nfname_event = op.join(data_path, 'MEG/sample/sample_audvis_filt-0-40_raw-eve.fif')\n\n# ----------------------------------------\n# read data and crop to speedup the process\n# ----------------------------------------\nraw = mne.io.read_raw_fif(fname_raw)\nevents = mne.read_events(fname_event)\n# add a bad channel\nraw.info['bads'] += ['MEG 2443']\n# pick MEG channels\npicks = mne.pick_types(raw.info, meg='mag', eeg=False, stim=False, eog=False,\n                       exclude='bads')\n# crop data to speed-up process\nraw.crop(tmax=180)\ndata = raw.get_data()[picks, :]     # data *= 1e12  will change the results !\n\n# =========================================\n# Method 1:\n# apply various dimension reduction tools\n# to estimate the median of all\n# =========================================\nrank_all, rank_median = rank_estimation(data)\nprint ('\\nRank estimation using methods implemented in jumeg (including whitening)')\nprint('Ranks in order: MIBS, BIC, GAP, AIC, MDL, pct95, pct99: ', rank_all)\nprint('The median of the data is %f\\n' % rank_median)\n\n\n\n# =========================================\n# Method 2:\n# apply a single method for rank estimation\n# using whitening provided by sklearn\n# here we apply all methods separately\n# =========================================\n# perform PCA\npca = PCA(svd_solver='auto', whiten=True)\npc = pca.fit_transform(data.T)\nn_samples, n_features = pc.shape\n\n# rank estimation of a single method\nrank_mibs = mibs(pca.explained_variance_, n_samples)   #  MIBS\nrank_bic  = bic(pca.explained_variance_, n_samples)    #  BIC\nrank_gap  = gap(pca.explained_variance_)               #  GAP\nrank_aic  = aic(pca.explained_variance_)               #  AIC\nrank_mdl  = mdl(pca.explained_variance_)               #  MDL\nrank_expl95 = explVar(pca.explained_variance_, explainedVar=0.95)      #  expl. variance (95)\nrank_expl99 = explVar(pca.explained_variance_, explainedVar=0.99)      #  expl. variance (99)\nlabel_mibs   = 'MIBS:   n_comp =  %d' % (rank_mibs)\nlabel_bic    = 'BIC:    n_comp =  %d' % (rank_bic)\nlabel_gap    = 'GAP:    n_comp =  %d' % (rank_gap)\nlabel_aic    = 'AIC:    n_comp =  %d' % (rank_aic)\nlabel_mdl    = 'MDL:    n_comp =  %d' % (rank_mdl)\nlabel_expl95 = 'expl95: n_comp =  %d' % (rank_expl95)\nlabel_expl99 = 'expl99: n_comp =  %d' % (rank_expl99)\nprint (label_mibs)\nprint (label_bic)\nprint (label_gap)\nprint (label_aic)\nprint (label_mdl)\nprint (label_expl95)\nprint (label_expl99)\n\n\n# -------------------------------------------\n# Method 3\n# apply rank estimation utilizing cross-validation\n# using PCA and FA scores\n# Note, on normal data sets this will take a long time\n# -------------------------------------------\n# define a list of components to test\n# here we use all components from above and add a few more for testing\nncomp_list = np.unique(np.concatenate([rank_all[rank_all > 0], [40, 50]]))\nncomp_list.sort()\ncv = 5     # depends on data length\nprint ('>>> Please be patient, this might take a while ....')\nprint ('')\n# PCA: test a list of numbers in a cross-validation scenario\nrank_cv_pca = pca_rank_cv(data, ncomp_list, cv=cv, whiten=True)\n\n# FA: test a list of components in a cross-validation scenario\nrank_cv_fa = fa_rank_cv(pc.T, ncomp_list, cv=cv)\n\nlabel_cv_pca  = 'PCA (CV=%d):  %d' % (cv, rank_cv_pca)\nlabel_cv_fa   = 'FA (CV=%d): %d' % (cv, rank_cv_fa)\n\n\n# ----------------------\n# plot results (Scree plot)\n# ----------------------\nlabels = np.array([label_aic, label_bic, label_gap, label_mdl, label_mibs, label_expl95, label_expl99])\ncomps = np.array([rank_aic, rank_bic, rank_gap, rank_mdl, rank_mibs, rank_expl95, rank_expl99])\n# sorting by increasing number of components\nixsort = comps.argsort()\ncomps = comps[ixsort]\nlabels = labels[ixsort]\n\n# components estimated using CV\nlabel_cv = [label_cv_pca, label_cv_fa]\ncomps_cv = [rank_cv_pca, rank_cv_fa]\n\n# plot figure\ncmap = cm.get_cmap('Dark2')   # 8 colors\ncolors = cmap.colors[::-1]\nxaxis = np.arange(n_features)+1\nfig = plt.figure(figsize=(10, 6))\nplt.plot(xaxis, np.cumsum(pca.explained_variance_ratio_ * 100), marker='o', color='black')\nplt.title('Scree plot')\nplt.xlabel('# components')\nplt.ylabel('explained variance / %')\n# plot vertical line and label for each method\nmethods = []\nfor i in range(len(comps)):\n    if (comps[i] > 0):\n        hl = plt.axvline(x=comps[i], color=colors[i], label=labels[i], linestyle='--')\n        methods.append(hl)\nlegend1 = plt.legend(handles=methods, loc='lower right')\nax = plt.gca().add_artist(legend1)\n# plot vertical line and label for CV methods\nl1 =  plt.axvline(x=comps_cv[0], color='blue', label=label_cv[0], linewidth=3)\nl2 =  plt.axvline(x=comps_cv[1], color='red', label=label_cv[1], linewidth=3)\nmethods_cv = [l1,l2]\nlegend2 = plt.legend(handles=methods_cv, loc='center right')"
      ]
    }
  ],
  "metadata": {
    "kernelspec": {
      "display_name": "Python 3",
      "language": "python",
      "name": "python3"
    },
    "language_info": {
      "codemirror_mode": {
        "name": "ipython",
        "version": 3
      },
      "file_extension": ".py",
      "mimetype": "text/x-python",
      "name": "python",
      "nbconvert_exporter": "python",
      "pygments_lexer": "ipython3",
      "version": "3.9.16"
    }
  },
  "nbformat": 4,
  "nbformat_minor": 0
}