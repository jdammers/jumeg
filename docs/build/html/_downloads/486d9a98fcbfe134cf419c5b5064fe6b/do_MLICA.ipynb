{
  "cells": [
    {
      "cell_type": "markdown",
      "metadata": {},
      "source": [
        "\n# Do MLICA\n\nCompute ICA object based on filtered and downsampled data.\nIdentify ECG and EOG artifacts using the pre-trained DCNN model\nand compare results using correlation & ctps analysis.\n\nApply ICA object to filtered and unfiltered data.\n\nAhmad Hasasneh, Nikolas Kampel, Praveen Sripad, N. Jon Shah, and Juergen Dammers\n\"Deep Learning Approach for Automatic Classification of Ocular and Cardiac\nArtifacts in MEG Data\"\nJournal of Engineering, vol. 2018, Article ID 1350692,10 pages, 2018.\nhttps://doi.org/10.1155/2018/1350692\n"
      ]
    },
    {
      "cell_type": "code",
      "execution_count": null,
      "metadata": {
        "collapsed": false
      },
      "outputs": [],
      "source": [
        "import os.path as op\nimport matplotlib.pylab as plt\nplt.ion()\nimport numpy as np\nimport mne\nfrom jumeg.decompose.ica_replace_mean_std import ICA, ica_update_mean_std\nfrom keras.models import load_model\nfrom jumeg.jumeg_noise_reducer import noise_reducer\nfrom jumeg.jumeg_preprocessing import get_ics_cardiac, get_ics_ocular\nfrom jumeg.jumeg_plot import plot_performance_artifact_rejection\nfrom jumeg.jumeg_utils import get_jumeg_path\n\n# ++++++++++++++++++++++++++++++++++++++++++++++++++++++++++++++++++++++++++\n# settings\n# ++++++++++++++++++++++++++++++++++++++++++++++++++++++++++++++++++++++++++\nmodel_thresh = 0.8                        # >0.5 ..0.9\nn_components = 40                         # 30 .. 60\nnjobs = 'cuda'\nsfreq_new = 250                           # downsampling to 250 Hz\nflow_raw, flow_high = 2, 45               # high pass filter prevents from false positives\nflow_ecg, fhigh_ecg = 8, 20\nflow_eog, fhigh_eog = 1, 20\necg_thresh, eog_thresh = 0.3, 0.3\necg_ch = 'ECG 001'\neog1_ch = 'EOG 001'\neog2_ch = 'EOG 002'\nreject = {'mag': 5e-12}\n\n# number time samples is fixed to 15000\nnsamples_chop = 15000\nix_t1 = 0                              # time index: here we use the first chop\nix_t2 = ix_t1 + nsamples_chop\n\n# ----------------------------------------------\n# load DCNN model for artifact rejection\n# the details of the model is provided in:\n#       x_validation_shuffle_v4_split_23.txt\n# model was trained on 4D data from Juelich\n# ----------------------------------------------\nmodel_path = op.join(get_jumeg_path(), 'data')\nmodel_name = op.join(model_path, \"dcnn_model.hdf5\")\nmodel = load_model(model_name)\n\n# ----------------------------------------------\n# read example data file\n# ----------------------------------------------\npath_data = '/data/megraid22/Common/DeepLearning/cau_data_validation/'\nraw_fname = op.join(path_data, '109925_CAU01A_100715_0842_2_c,rfDC,t1,n_bcc,nr-raw.fif')\nraw = mne.io.Raw(raw_fname, preload=True)\npicks = mne.pick_types(raw.info, meg=True, eeg=False, eog=False,\n                       stim=False, exclude='bads')\n\n\n# ----------------------------------------------\n# filtering and down sampling\n# ----------------------------------------------\n# filter prior to ICA\nraw_filtered = raw.copy().filter(flow_raw, flow_high, picks=picks, filter_length='auto',\n                                 l_trans_bandwidth='auto', h_trans_bandwidth='auto',\n                                 n_jobs=njobs, method='fir', phase='zero',\n                                 fir_window='hamming')\n# downsample data\nraw_ds = raw_filtered.copy().resample(sfreq_new, npad='auto', window='boxcar', stim_picks=None,\n                                      n_jobs=njobs, events=None)\n\n# ----------------------------------------------\n# crop data to get first chop\n# ----------------------------------------------\n# get times to crop\ndt = raw_ds.times[1]             # time period between two time samples\ntmin = ix_t1 * dt\ntmax = ix_t2 * dt - dt           #  subtract one sample\n# crop all raw objects\nraw_chop = raw.copy().crop(tmin=tmin, tmax=tmax)                     # raw\nraw_filtered_chop = raw_filtered.copy().crop(tmin=tmin, tmax=tmax)   # raw filtered\nraw_ds_chop = raw_ds.copy().crop(tmin=tmin, tmax=tmax)               # raw filtered downsampled\nraw_filtered.close()\n\n# ----------------------------------------------\n# apply ICA\n# ----------------------------------------------\nica = ICA(method='fastica', n_components=n_components, random_state=42,\n          max_pca_components=None, max_iter=5000, verbose=None)\n# do the ICA decomposition on downsampled raw\nica.fit(raw_ds_chop, picks=picks, reject=reject, verbose=None)\nsources = ica.get_sources(raw_ds_chop)._data                     # get sources\nsources = np.reshape(sources, (n_components,nsamples_chop, 1))   # reshape sources\n\n# ----------------------------------------------\n# model prediction\n# identification of artifact components\n# ----------------------------------------------\n# compute base functions\nmm = np.float32(np.dot(ica.mixing_matrix_[:, :ica.n_components_].T,\n                       ica.pca_components_[:ica.n_components_, :ica.max_pca_components]))\n# get model prediction\nmodel_scores = model.predict([mm, sources], verbose=1)\n# get ICs\nbads_MLICA = list(np.where(model_scores[:,0] > model_thresh)[0])\n\n# ----------------------------------------------\n# order ICs for visualization\n# ----------------------------------------------\nvar_order = sources.std(axis=1).flatten().argsort()[::-1]\ngood_ics = np.setdiff1d(var_order, bads_MLICA)\nic_order = list(np.concatenate([bads_MLICA, good_ics]))\n# store components in ica object\nica.exclude = list(bads_MLICA)\n\n\n# ----------------------------------------------\n# compare MLICA results with correlation and ctps\n# ----------------------------------------------\nprint('Identifying components..')\n# get ECG/EOG related components using JuMEG\nic_ecg = get_ics_cardiac(raw_filtered_chop, ica, flow=flow_ecg, fhigh=fhigh_ecg,\n                         thresh=ecg_thresh, tmin=-0.5, tmax=0.5,\n                         name_ecg=ecg_ch, use_CTPS=True)[0]  # returns both ICs and scores (take only ICs)\nic_eog = get_ics_ocular(raw_filtered_chop, ica, flow=flow_eog, fhigh=fhigh_eog,\n                        thresh=eog_thresh, name_eog_hor=eog1_ch,\n                        name_eog_ver=eog2_ch, score_func='pearsonr')\nbads_corr_ctps = list(ic_ecg) + list(ic_eog)\nbads_corr_ctps = list(set(bads_corr_ctps))  # remove potential duplicates\nbads_corr_ctps.sort()\nprint('Bad components from MLICA:', bads_MLICA)\nprint('Bad components from correlation & ctps:', bads_corr_ctps)\n\n\n# ----------------------------------------------\n# plot results\n# ----------------------------------------------\n# plot sources\nfig = ica.plot_sources(raw_filtered_chop, picks=ic_order, title='MLICA', show=False)\n#fig.savefig('MLICA_ica-sources.png')\n\n# plot artifact rejection performance\nfnout_fig = '109925_CAU01A_100715_0842_2_c,rfDC,0-45hz,ar-perf'\nica_filtered_chop = ica_update_mean_std(raw_filtered_chop, ica, picks=picks, reject=reject)\nraw_filtered_chop_clean = ica_filtered_chop.apply(raw_filtered_chop, exclude=ica.exclude,\n                                                  n_pca_components=None)\nica_unfiltered_chop = ica_update_mean_std(raw_chop, ica, picks=picks, reject=reject)\nraw_unfiltered_chop_clean = ica_unfiltered_chop.apply(raw_chop, exclude=ica.exclude, n_pca_components=None)\nplot_performance_artifact_rejection(raw.copy().crop(tmin=tmin, tmax=tmax), ica_unfiltered_chop, fnout_fig,\n                                    meg_clean=raw_unfiltered_chop_clean,\n                                    show=True, verbose=False,\n                                    name_ecg=ecg_ch,\n                                    name_eog=eog2_ch)"
      ]
    }
  ],
  "metadata": {
    "kernelspec": {
      "display_name": "Python 3",
      "language": "python",
      "name": "python3"
    },
    "language_info": {
      "codemirror_mode": {
        "name": "ipython",
        "version": 3
      },
      "file_extension": ".py",
      "mimetype": "text/x-python",
      "name": "python",
      "nbconvert_exporter": "python",
      "pygments_lexer": "ipython3",
      "version": "3.9.16"
    }
  },
  "nbformat": 4,
  "nbformat_minor": 0
}