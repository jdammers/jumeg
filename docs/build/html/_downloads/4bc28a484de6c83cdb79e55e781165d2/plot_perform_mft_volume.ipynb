{
  "cells": [
    {
      "cell_type": "markdown",
      "metadata": {},
      "source": [
        "\n# Jumeg MFT volume.\n"
      ]
    },
    {
      "cell_type": "code",
      "execution_count": null,
      "metadata": {
        "collapsed": false
      },
      "outputs": [],
      "source": [
        "import os.path as op\nimport numpy as np\nimport mne\nfrom mne.datasets import sample\nfrom jumeg.mft import (apply_mft, jumeg_mft_plot)\n\ndata_path = sample.data_path()\nsubject = 'sample'\nsubjects_dir = op.join(data_path, 'subjects')\nfwdname = op.join(data_path, 'MEG/sample/sample_audvis-meg-vol-7-fwd.fif')\nevoname = op.join(data_path, 'MEG/sample/sample_audvis-ave.fif')\nevocondition = 'Left Auditory'\nrawname = op.join(data_path, 'MEG/sample/sample_audvis_10s-raw.fif')\nt1_fname = op.join(subjects_dir, 'sample/mri/T1.mgz')\n\n# Set up pick list: MEG - bad channels\nwant_meg = 'mag'\nwant_ref = False\nwant_eeg = False\nwant_stim = False\nexclude = 'bads'\ninclude = []\n\nprint(\"########## MFT parameter:\")\nmftpar = {'prbfct': 'Gauss',\n          'prbcnt': np.array([[-1.039, 0.013, 0.062], [-0.039, 0.013, 0.062]]),\n          'prbhw': np.array([[0.040, 0.040, 0.040], [0.040, 0.040, 0.040]])}\n# mftpar = { 'prbfct': 'uniform',\n#            'prbcnt': None,\n#            'prbhw': None}\nmftpar.update({'iter': 4, 'currexp': 1.0})\nmftpar.update({'regtype': 'PzetaE', 'zetareg': 1.00})\n# mftpar.update({ 'regtype':'classic', 'zetareg':1.0})\nmftpar.update({'solver': 'lu', 'svrelcut': 5.e-4})\n\nprint(\"mftpar['prbcnt'  ] = \", mftpar['prbcnt'])\nprint(\"mftpar['prbhw'   ] = \", mftpar['prbhw'])\nprint(\"mftpar['iter'    ] = \", mftpar['iter'])\nprint(\"mftpar['regtype' ] = \", mftpar['regtype'])\nprint(\"mftpar['zetareg' ] = \", mftpar['zetareg'])\nprint(\"mftpar['solver'  ] = \", mftpar['solver'])\nprint(\"mftpar['svrelcut'] = \", mftpar['svrelcut'])\ncdmcut = 0.10\nprint(\"cdmcut = \", cdmcut)\n\nprint(\"##########################\")\nprint(\"##### Read fwd-soln:\")\nprint(\"##########################\")\nfwd = mne.read_forward_solution(fwdname, verbose=True)\n\n# Select magnetometer channels:\nfwdmag = mne.io.pick.pick_types_forward(fwd, meg=want_meg, ref_meg=False,\n                                        eeg=False, exclude=exclude)\n\nprint(\" \")\nprint(\"########## Some geo-numbers:\")\nlhinds = np.where(fwdmag['source_rr'][:, 0] <= 0.)\nrhinds = np.where(fwdmag['source_rr'][:, 0] > 0.)\nypinds = np.where(fwdmag['source_rr'][:, 1] > 0.)\nyninds = np.where(fwdmag['source_rr'][:, 1] <= 0.)\nlhfinds = np.array(np.setdiff1d(lhinds[0], ypinds[0]))\nlhbinds = np.array(np.setdiff1d(lhinds[0], yninds[0]))\nrhfinds = np.array(np.setdiff1d(rhinds[0], ypinds[0]))\nrhbinds = np.array(np.setdiff1d(rhinds[0], yninds[0]))\nprint(\"> Discriminating lh/rh by sign of fwdmag['source_rr'][:,0]:\")\nprint(\"> lhinds[0].shape[0] = \", lhinds[0].shape[0], \" rhinds[0].shape[0] = \", rhinds[0].shape[0])\ninvmri_head_t = mne.transforms.invert_transform(fwdmag['info']['mri_head_t'])\nmrsrc = np.zeros(fwdmag['source_rr'].shape)\nmrsrc = mne.transforms.apply_trans(invmri_head_t['trans'], fwdmag['source_rr'], move=True)\nlhmrinds = np.where(mrsrc[:, 0] <= 0.)\nrhmrinds = np.where(mrsrc[:, 0] > 0.)\nprint(\"> Discriminating lh/rh by sign of fwdmag['source_rr'][:,0] in MR coords:\")\nprint(\"> lhmrinds[0].shape[0] = \", lhmrinds[0].shape[0], \" rhmrinds[0].shape[0] = \", rhmrinds[0].shape[0])\n\nprint(\"########## prepare to put labels into label-files:\")\nmylablist = []\n# mylab = mne.Label(lhinds[0],pos=fwdmag['source_rr'][lhinds[0],:],hemi='lh',name='test_lh', verbose=True)\n# mylablist.append(mylab)\n# mylab = mne.Label(rhinds[0],pos=fwdmag['source_rr'][rhinds[0],:],hemi='rh',name='test_rh', verbose=True)\n# mylablist.append(mylab)\n\n# mylab = mne.Label(lhfinds,pos=fwdmag['source_rr'][lhfinds,:],hemi='lhf',name='test_lhf', verbose=True)\n# mylablist.append(mylab)\n# mylab = mne.Label(lhbinds,pos=fwdmag['source_rr'][lhbinds,:],hemi='lhb',name='test_lhb', verbose=True)\n# mylablist.append(mylab)\n# mylab = mne.Label(rhfinds,pos=fwdmag['source_rr'][rhfinds,:],hemi='rhf',name='test_rhf', verbose=True)\n# mylablist.append(mylab)\n# mylab = mne.Label(rhbinds,pos=fwdmag['source_rr'][rhbinds,:],hemi='rhb',name='test_rhb', verbose=True)\n# mylablist.append(mylab)\n\nprint(\"##################################\")\nprint(\"##### Calling apply_mft(mylablist)\")\nprint(\"##################################\")\nfwdmag, qualmft, stc_mft = apply_mft(fwdname, evoname, evocondition=evocondition,\n                                     subject=subject, meg=want_meg,\n                                     calccdm='all', cdmcut=cdmcut, cdmlabels=mylablist,\n                                     mftpar=mftpar, verbose='verbose')\n\nevo = mne.read_evokeds(evoname, condition=evocondition, baseline=(None, 0))\ntmin = -0.2\ntstep = 1. / evo.info['sfreq']\nstcdata = stc_mft.data\n\n# plotting routines\njumeg_mft_plot.plot_global_cdv_dist(stcdata)\n# print \">>>>> skipping jumeg_mft_plot.plot_visualize_mft_sources() (fails due to old PySurfer-version)\"\njumeg_mft_plot.plot_visualize_mft_sources(fwdmag, stcdata, tmin=tmin, tstep=tstep,\n                                          subject=subject, subjects_dir=subjects_dir)\njumeg_mft_plot.plot_cdv_distribution(fwdmag, stcdata)\njumeg_mft_plot.plot_max_amplitude_data(fwdmag, stcdata, tmin=tmin, tstep=tstep,\n                                       subject=subject)\njumeg_mft_plot.plot_max_cdv_data(stc_mft, lhmrinds, rhmrinds)\njumeg_mft_plot.plot_cdvsum_data(stc_mft, lhmrinds, rhmrinds)\njumeg_mft_plot.plot_quality_data(qualmft, stc_mft)\njumeg_mft_plot.plot_cdm_data(qualmft, stc_mft)\n\njumeg_mft_plot.plot_cdm_data(qualmft, stc_mft, cdmlabels=mylablist)\njumeg_mft_plot.plot_jlong_labeldata(qualmft, stc_mft, mylablist)\njumeg_mft_plot.plot_jtotal_labeldata(qualmft, stc_mft, mylablist)\n\njumeg_mft_plot.plot_cdm_data(qualmft, stc_mft)\njumeg_mft_plot.plot_jlong_data(qualmft, stc_mft)\n\nprint(\"Done.\")"
      ]
    }
  ],
  "metadata": {
    "kernelspec": {
      "display_name": "Python 3",
      "language": "python",
      "name": "python3"
    },
    "language_info": {
      "codemirror_mode": {
        "name": "ipython",
        "version": 3
      },
      "file_extension": ".py",
      "mimetype": "text/x-python",
      "name": "python",
      "nbconvert_exporter": "python",
      "pygments_lexer": "ipython3",
      "version": "3.9.16"
    }
  },
  "nbformat": 4,
  "nbformat_minor": 0
}