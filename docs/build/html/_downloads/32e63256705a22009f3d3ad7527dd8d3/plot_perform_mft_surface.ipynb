{
  "cells": [
    {
      "cell_type": "markdown",
      "metadata": {},
      "source": [
        "\n# Jumeg MFT example.\n\nPerform MFT on a surface based forward solution.\n"
      ]
    },
    {
      "cell_type": "code",
      "execution_count": null,
      "metadata": {
        "collapsed": false
      },
      "outputs": [],
      "source": [
        "import os\nimport os.path as op\nimport numpy as np\n\nimport mne\nfrom mne.datasets import sample\n\nfrom jumeg.mft import apply_mft\nfrom jumeg.mft import jumeg_mft_plot\n\ndata_path = sample.data_path()\nsubject = 'sample'\nsubjects_dir = op.join(data_path, 'subjects')\nfwdname = op.join(data_path, 'MEG/sample/sample_audvis-meg-oct-6-fwd.fif')\nlblname = 'aparc'\nevoname = op.join(data_path, 'MEG/sample/sample_audvis-ave.fif')\nevocondition = 'Left Auditory'\nrawname = op.join(data_path, 'MEG/sample/sample_audvis_10s-raw.fif')\nt1_fname = op.join(subjects_dir, 'sample/mri/T1.mgz')\n\n# Set up pick list: MEG - bad channels\nwant_meg = 'mag'\nwant_ref = False\nwant_eeg = False\nwant_stim = False\nexclude = 'bads'\ninclude = []\n\nprint(\"########## MFT parameters:\")\n# mftpar = { 'prbfct':'Gauss',\n#           'prbcnt':np.array([[-1.039, 0.013,0.062],[-0.039, 0.013,0.062]]),\n#           'prbhw':np.array([[0.040,0.040,0.040],[0.040,0.040,0.040]]) }\nmftpar = {'prbfct': 'uniform',\n          'prbcnt': None,\n          'prbhw': None}\nmftpar.update({'iter': 2, 'currexp': 1.0})\nmftpar.update({'regtype': 'PzetaE', 'zetareg': 1.00})\n# mftpar.update({ 'regtype':'classic', 'zetareg':1.0})\nmftpar.update({'solver': 'lu', 'svrelcut': 5.e-4})\n\nprint(\"mftpar['prbcnt'  ] = \", mftpar['prbcnt'])\nprint(\"mftpar['prbhw'   ] = \", mftpar['prbhw'])\nprint(\"mftpar['iter'    ] = \", mftpar['iter'])\nprint(\"mftpar['regtype' ] = \", mftpar['regtype'])\nprint(\"mftpar['zetareg' ] = \", mftpar['zetareg'])\nprint(\"mftpar['solver'  ] = \", mftpar['solver'])\nprint(\"mftpar['svrelcut'] = \", mftpar['svrelcut'])\ncdmcut = 0.10\nprint(\"cdmcut = \", cdmcut)\n\nprint(\"########## get labels:\")\nif lblname is not None:\n    labels = mne.read_labels_from_annot(subject, parc=lblname,\n                                        subjects_dir=subjects_dir)\nelse:\n    labels = None\n\nprint(\"##########################\")\nprint(\"##### Calling apply_mft()\")\nprint(\"##########################\")\nfwd = mne.read_forward_solution(fwdname, verbose=True)\nfwdspec = mne.io.pick.pick_types_forward(fwd, meg=want_meg, ref_meg=False,\n                                         eeg=False, exclude=exclude)\ndataspec = mne.read_evokeds(evoname, condition=evocondition,\n                            baseline=(None, 0), verbose=True)\nfwdmag, qualmft, stc_mft = apply_mft(fwdspec, dataspec, evocondition=evocondition,\n                                     subject=subject, meg=want_meg, save_stc=False,\n                                     calccdm='all', cdmcut=cdmcut, cdmlabels=labels,\n                                     mftpar=mftpar, verbose='verbose')\n\nevo = mne.read_evokeds(evoname, condition=evocondition, baseline=(None, 0))\ntmin = -0.2\ntstep = 1. / evo.info['sfreq']\n\nstcdata = stc_mft.data\n\nprint(\" \")\nprint(\"########## Some geo-numbers:\")\nlhinds = np.where(fwdmag['source_rr'][:, 0] <= 0.)\nrhinds = np.where(fwdmag['source_rr'][:, 0] > 0.)\nprint(\"> Discriminating lh/rh by sign of fwdmag['source_rr'][:,0]:\")\nprint(\"> lhinds[0].shape[0] = \", lhinds[0].shape[0], \" rhinds[0].shape[0] = \", rhinds[0].shape[0])\ninvmri_head_t = mne.transforms.invert_transform(fwdmag['info']['mri_head_t'])\nmrsrc = np.zeros(fwdmag['source_rr'].shape)\nmrsrc = mne.transforms.apply_trans(invmri_head_t['trans'], fwdmag['source_rr'], move=True)\nlhmrinds = np.where(mrsrc[:, 0] <= 0.)\nrhmrinds = np.where(mrsrc[:, 0] > 0.)\nprint(\"> Discriminating lh/rh by sign of fwdmag['source_rr'][:,0] in MR coords:\")\nprint(\"> lhmrinds[0].shape[0] = \", lhmrinds[0].shape[0], \" rhmrinds[0].shape[0] = \", rhmrinds[0].shape[0])\n\n# plotting routines\njumeg_mft_plot.plot_global_cdv_dist(stcdata)\njumeg_mft_plot.plot_visualize_mft_sources(fwdmag, stcdata, tmin=tmin, tstep=tstep,\n                                          subject=subject, subjects_dir=subjects_dir)\njumeg_mft_plot.plot_cdv_distribution(fwdmag, stcdata)\njumeg_mft_plot.plot_max_amplitude_data(fwdmag, stcdata, tmin=tmin, tstep=tstep,\n                                       subject=subject)\njumeg_mft_plot.plot_max_cdv_data(stc_mft, lhmrinds, rhmrinds)\njumeg_mft_plot.plot_cdvsum_data(stc_mft, lhmrinds, rhmrinds)\njumeg_mft_plot.plot_quality_data(qualmft, stc_mft)\njumeg_mft_plot.plot_cdm_data(qualmft, stc_mft, cdmlabels=labels)\njumeg_mft_plot.plot_jlong_labeldata(qualmft, stc_mft, labels)\njumeg_mft_plot.plot_jtotal_labeldata(qualmft, stc_mft, labels)\n\njumeg_mft_plot.plot_jlong_data(qualmft, stc_mft)\n\nprint(\"Done.\")"
      ]
    }
  ],
  "metadata": {
    "kernelspec": {
      "display_name": "Python 3",
      "language": "python",
      "name": "python3"
    },
    "language_info": {
      "codemirror_mode": {
        "name": "ipython",
        "version": 3
      },
      "file_extension": ".py",
      "mimetype": "text/x-python",
      "name": "python",
      "nbconvert_exporter": "python",
      "pygments_lexer": "ipython3",
      "version": "3.9.16"
    }
  },
  "nbformat": 4,
  "nbformat_minor": 0
}