{
  "cells": [
    {
      "cell_type": "markdown",
      "metadata": {},
      "source": [
        "\n# Filtering in jumeg.\n\nComparison of the various filters available for use in mne/jumeg.\n"
      ]
    },
    {
      "cell_type": "code",
      "execution_count": null,
      "metadata": {
        "collapsed": false
      },
      "outputs": [],
      "source": [
        "import os.path as op\n\nimport numpy as np\nimport matplotlib.pyplot as plt\n\nimport mne\nfrom mne.datasets import sample\n\nfrom jumeg.filter import jumeg_filter\n\ndata_path = sample.data_path()\nraw_fname = op.join(data_path, 'MEG/sample/sample_audvis_raw.fif')\n\n# load the raw data\nraw = mne.io.Raw(raw_fname, preload=True)\npicks = mne.pick_types(raw.info, meg='mag', exclude='bads')\nprint('Sampling frequency is %f' % raw.info['sfreq'])\n\n# plot the raw psd\nfig = raw.plot_psd(tmin=0.0, tmax=160., fmin=0, fmax=np.inf,\n                   picks=picks, ax=None, color='black', area_mode='std',\n                   area_alpha=0.33, n_overlap=0, dB=True, average=True,\n                   show=False, n_jobs=4, line_alpha=None,\n                   spatial_colors=None, xscale='linear', verbose='ERROR');\nfig.suptitle('Original sprectrum')\n\nl_freq, h_freq = 1., 45.\n\n# apply FIR filter\nfir_filt = raw.copy().filter(l_freq, h_freq, picks=picks, filter_length='auto',\n                             l_trans_bandwidth='auto', h_trans_bandwidth='auto',\n                             n_jobs=4, method='fir', iir_params=None, phase='zero',\n                             fir_window='hamming', verbose='ERROR')\n\n# apply IIR filter\nfilter_type = 'butter'\nfilt_method = 'fft'\niir_params={'ftype': filter_type, 'order': 4}\n\n# apply IIR filter\niir_filt = raw.copy().filter(l_freq, h_freq, picks=picks, filter_length='auto',\n                             l_trans_bandwidth='auto', h_trans_bandwidth='auto',\n                             n_jobs=4, method='iir', iir_params=iir_params, phase='zero',\n                             fir_window='hamming', verbose='ERROR')\n\n# apply the jumeg filter using mne\nfilt_ju_mne = jumeg_filter(filter_method='mne', filter_type='bp', fcut1=l_freq, fcut2=h_freq,\n                           remove_dcoffset=True, sampling_frequency=raw.info['sfreq'],\n                           filter_window='hamming', notch=np.array([50., 60.]),\n                           notch_width=1.0, order=4, njobs=4,\n                           mne_filter_method='fft',mne_filter_length='10s',\n                           trans_bandwith=0.5)\nju_mne_filt = raw.copy()  # make a copy\nju_mne_filt._data = filt_ju_mne.apply_filter(ju_mne_filt._data, picks)\n\n# apply the jumeg filter using bw\nfilt_ju_bw = jumeg_filter(filter_method='bw', filter_type='bp', fcut1=l_freq, fcut2=h_freq,\n                          remove_dcoffset=True, sampling_frequency=raw.info['sfreq'],\n                          filter_window='hamming', notch=np.array([50., 60.]),\n                          notch_width=1.0, order=4, njobs=4,\n                          mne_filter_method='fft',mne_filter_length='10s',\n                          trans_bandwith=0.5)\nfilt_ju_bw.verbose = False\nju_bw_filt = raw.copy()  # make a copy\nfilt_ju_bw.apply_filter(ju_bw_filt._data, picks)\n\nfig, (ax1, ax2) = plt.subplots(1, 2)\n\n# plot the jumeg MNE and jumeg Butterworth filtered raw psds\nju_mne_filt.plot_psd(tmin=0.0, tmax=160., fmin=0, fmax=70., n_fft=None,\n                     picks=picks, ax=ax1, color='blue', area_mode='std',\n                     area_alpha=0.33, n_overlap=0, dB=True, average=True,\n                     show=False, n_jobs=4, line_alpha=None,\n                     spatial_colors=None, xscale='linear', verbose=None);\n\nju_bw_filt.plot_psd(tmin=0.0, tmax=160., fmin=0, fmax=70., n_fft=None,\n                    picks=picks, ax=ax1, color='green', area_mode='std',\n                    area_alpha=0.33, n_overlap=0, dB=True, average=True,\n                    show=False, n_jobs=4, line_alpha=None,\n                    spatial_colors=None, xscale='linear', verbose=None);\n\nax1.set_xlim(0., 75.);\nax1.set_title('jumeg MNE (blue)/jumeg BW (green)');\n\n# plot the MNE FIR and IIR filterered raw psds\nfir_filt.plot_psd(tmin=0.0, tmax=160., fmin=0, fmax=70., n_fft=None,\n                  picks=picks, ax=ax2, color='red', area_mode='std',\n                  area_alpha=0.33, n_overlap=0, dB=True, average=True,\n                  show=False, n_jobs=4, line_alpha=None,\n                  spatial_colors=None, xscale='linear', verbose='ERROR');\n\niir_filt.plot_psd(tmin=0.0, tmax=160., fmin=0., fmax=70., n_fft=None,\n                  picks=picks, ax=ax2, color='yellow', area_mode='std',\n                  area_alpha=0.33, n_overlap=0, dB=True, average=True,\n                  show=False, n_jobs=4, line_alpha=None,\n                  spatial_colors=None, xscale='linear', verbose='ERROR');\nax2.set_xlim(0., 75.);\nax2.set_title('MNE FIR (red)/ MNE IIR (yellow)');\n\nfig.tight_layout()\nplt.show()\n\n# Recommendation: Presently, it is best to use the MNE FIR filter for our\n# filtering requirements. The jumeg filter module (which wraps around mne\n# filter) may be used when the MNE band_pass_filter needs to be combined with\n# the notch_filter. In cases where the notch frequencies are removed using the\n# noise reducer, the mne FIR filter can be directly used."
      ]
    }
  ],
  "metadata": {
    "kernelspec": {
      "display_name": "Python 3",
      "language": "python",
      "name": "python3"
    },
    "language_info": {
      "codemirror_mode": {
        "name": "ipython",
        "version": 3
      },
      "file_extension": ".py",
      "mimetype": "text/x-python",
      "name": "python",
      "nbconvert_exporter": "python",
      "pygments_lexer": "ipython3",
      "version": "3.9.16"
    }
  },
  "nbformat": 4,
  "nbformat_minor": 0
}