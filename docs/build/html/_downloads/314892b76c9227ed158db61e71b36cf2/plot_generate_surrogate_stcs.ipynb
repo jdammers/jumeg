{
  "cells": [
    {
      "cell_type": "markdown",
      "metadata": {},
      "source": [
        "\n# Generate surrogate STCs\n\n\nExample to show surrogate generation on STCs using the jumeg Surrogates\nmodule.\n"
      ]
    },
    {
      "cell_type": "code",
      "execution_count": null,
      "metadata": {
        "collapsed": false
      },
      "outputs": [],
      "source": [
        "import os.path as op\nimport numpy as np\nimport matplotlib.pyplot as pl\n\nfrom mne.datasets import sample\nfrom mne.minimum_norm import read_inverse_operator, apply_inverse_epochs\nimport mne\n\nfrom jumeg.jumeg_surrogates import Surrogates, check_power_spectrum\n\ndata_path = sample.data_path()\nsubjects_dir = op.join(data_path, 'subjects')\n\nfname_inv = op.join(data_path, 'MEG/sample/sample_audvis-meg-oct-6-meg-inv.fif')\nfname_raw = op.join(data_path, 'MEG/sample/sample_audvis_filt-0-40_raw.fif')\nfname_event = op.join(data_path, 'MEG/sample/sample_audvis_filt-0-40_raw-eve.fif')\n\nstcs_testing = True\n\nraw = mne.io.read_raw_fif(fname_raw)\nevents = mne.read_events(fname_event)\ninverse_operator = read_inverse_operator(fname_inv)\n\n# add a bad channel\nraw.info['bads'] += ['MEG 2443']\n\n# pick MEG channels\npicks = mne.pick_types(raw.info, meg=True, eeg=False, stim=False, eog=False,\n                       exclude='bads')\n\n# define epochs for left-auditory condition\nevent_id, tmin, tmax = 1, -0.2, 0.5\nepochs = mne.Epochs(raw, events, event_id, tmin, tmax, picks=picks,\n                    baseline=(None, 0), reject=dict(mag=4e-12, grad=4000e-13))\n\n\nsnr = 1.0  # use lower SNR for single epochs\nlambda2 = 1.0 / snr ** 2\nmethod = \"dSPM\"  # use dSPM method (could also be MNE or sLORETA)\nstcs = apply_inverse_epochs(epochs, inverse_operator, lambda2, method,\n                            pick_ori=\"normal\", return_generator=False)\n\n# compute surrogates for one STC\nsurr_stcs = Surrogates(stcs[0])\nmysurr = surr_stcs.compute_surrogates(n_surr=10, return_generator=False)\n\n# check if surrogates are correctly computed\nassert not np.array_equal(mysurr[0].data,\n                          mysurr[1].data), 'Surrogates mostly equal'\nassert not np.array_equal(stcs[0].data,\n                          mysurr[2].data), 'Surrogates equal to original'\n\n# visualize results by plotting 1 the average across voxels\n# of original and surrogate STC\npl.plot(stcs[0].data.mean(axis=0))\nfor i in mysurr:\n    pl.plot(i.data.mean(axis=0), color='r')\npl.title('Averaged real vs surrogate source time courses')\npl.show()"
      ]
    }
  ],
  "metadata": {
    "kernelspec": {
      "display_name": "Python 3",
      "language": "python",
      "name": "python3"
    },
    "language_info": {
      "codemirror_mode": {
        "name": "ipython",
        "version": 3
      },
      "file_extension": ".py",
      "mimetype": "text/x-python",
      "name": "python",
      "nbconvert_exporter": "python",
      "pygments_lexer": "ipython3",
      "version": "3.9.16"
    }
  },
  "nbformat": 4,
  "nbformat_minor": 0
}